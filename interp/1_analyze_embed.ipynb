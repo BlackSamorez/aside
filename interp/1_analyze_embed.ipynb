{
 "cells": [
  {
   "cell_type": "code",
   "execution_count": 1,
   "metadata": {},
   "outputs": [],
   "source": [
    "%load_ext autoreload\n",
    "%autoreload 2"
   ]
  },
  {
   "cell_type": "code",
   "execution_count": 4,
   "metadata": {},
   "outputs": [],
   "source": [
    "import transformers\n",
    "import torch\n",
    "import numpy as np\n",
    "import matplotlib.pyplot as plt\n",
    "from scipy import stats\n",
    "import seaborn as sns\n",
    "from tqdm import tqdm"
   ]
  },
  {
   "cell_type": "code",
   "execution_count": null,
   "metadata": {},
   "outputs": [],
   "source": [
    "# device = \"cuda\"\n",
    "# device1 = \"cuda:1\"\n",
    "# device2 = \"cuda:2\"\n"
   ]
  },
  {
   "cell_type": "code",
   "execution_count": null,
   "metadata": {},
   "outputs": [],
   "source": []
  },
  {
   "cell_type": "code",
   "execution_count": null,
   "metadata": {},
   "outputs": [
    {
     "data": {
      "application/vnd.jupyter.widget-view+json": {
       "model_id": "ec1476271a7a47e49a51cb90d1bba56e",
       "version_major": 2,
       "version_minor": 0
      },
      "text/plain": [
       "Loading checkpoint shards:   0%|          | 0/4 [00:00<?, ?it/s]"
      ]
     },
     "metadata": {},
     "output_type": "display_data"
    }
   ],
   "source": [
    "# base_model_name = \"meta-llama/Llama-3.1-8B\"\n",
    "base_model_name = \"TinyLlama/TinyLlama-1.1B-Chat-v0.1\"\n",
    "base_model = transformers.AutoModelForCausalLM.from_pretrained(base_model_name)\n",
    "base_tokenizer = transformers.AutoTokenizer.from_pretrained(base_model_name)\n"
   ]
  },
  {
   "cell_type": "code",
   "execution_count": 6,
   "metadata": {},
   "outputs": [
    {
     "data": {
      "application/vnd.jupyter.widget-view+json": {
       "model_id": "6ad3cac9bb4941ca9bdee5f2d4df4e39",
       "version_major": 2,
       "version_minor": 0
      },
      "text/plain": [
       "Loading checkpoint shards:   0%|          | 0/4 [00:00<?, ?it/s]"
      ]
     },
     "metadata": {},
     "output_type": "display_data"
    }
   ],
   "source": [
    "instruct_model_name = \"meta-llama/Llama-3.1-8B-instruct\"\n",
    "instruct_model = transformers.AutoModelForCausalLM.from_pretrained(instruct_model_name)\n",
    "instruct_tokenizer = transformers.AutoTokenizer.from_pretrained(instruct_model_name)"
   ]
  },
  {
   "cell_type": "code",
   "execution_count": 7,
   "metadata": {},
   "outputs": [
    {
     "data": {
      "text/plain": [
       "LlamaForCausalLM(\n",
       "  (model): LlamaModel(\n",
       "    (embed_tokens): Embedding(128256, 4096)\n",
       "    (layers): ModuleList(\n",
       "      (0-31): 32 x LlamaDecoderLayer(\n",
       "        (self_attn): LlamaSdpaAttention(\n",
       "          (q_proj): Linear(in_features=4096, out_features=4096, bias=False)\n",
       "          (k_proj): Linear(in_features=4096, out_features=1024, bias=False)\n",
       "          (v_proj): Linear(in_features=4096, out_features=1024, bias=False)\n",
       "          (o_proj): Linear(in_features=4096, out_features=4096, bias=False)\n",
       "          (rotary_emb): LlamaRotaryEmbedding()\n",
       "        )\n",
       "        (mlp): LlamaMLP(\n",
       "          (gate_proj): Linear(in_features=4096, out_features=14336, bias=False)\n",
       "          (up_proj): Linear(in_features=4096, out_features=14336, bias=False)\n",
       "          (down_proj): Linear(in_features=14336, out_features=4096, bias=False)\n",
       "          (act_fn): SiLU()\n",
       "        )\n",
       "        (input_layernorm): LlamaRMSNorm((4096,), eps=1e-05)\n",
       "        (post_attention_layernorm): LlamaRMSNorm((4096,), eps=1e-05)\n",
       "      )\n",
       "    )\n",
       "    (norm): LlamaRMSNorm((4096,), eps=1e-05)\n",
       "    (rotary_emb): LlamaRotaryEmbedding()\n",
       "  )\n",
       "  (lm_head): Linear(in_features=4096, out_features=128256, bias=False)\n",
       ")"
      ]
     },
     "execution_count": 7,
     "metadata": {},
     "output_type": "execute_result"
    }
   ],
   "source": [
    "base_model.to(device1)"
   ]
  },
  {
   "cell_type": "code",
   "execution_count": 8,
   "metadata": {},
   "outputs": [
    {
     "data": {
      "text/plain": [
       "LlamaForCausalLM(\n",
       "  (model): LlamaModel(\n",
       "    (embed_tokens): Embedding(128256, 4096)\n",
       "    (layers): ModuleList(\n",
       "      (0-31): 32 x LlamaDecoderLayer(\n",
       "        (self_attn): LlamaSdpaAttention(\n",
       "          (q_proj): Linear(in_features=4096, out_features=4096, bias=False)\n",
       "          (k_proj): Linear(in_features=4096, out_features=1024, bias=False)\n",
       "          (v_proj): Linear(in_features=4096, out_features=1024, bias=False)\n",
       "          (o_proj): Linear(in_features=4096, out_features=4096, bias=False)\n",
       "          (rotary_emb): LlamaRotaryEmbedding()\n",
       "        )\n",
       "        (mlp): LlamaMLP(\n",
       "          (gate_proj): Linear(in_features=4096, out_features=14336, bias=False)\n",
       "          (up_proj): Linear(in_features=4096, out_features=14336, bias=False)\n",
       "          (down_proj): Linear(in_features=14336, out_features=4096, bias=False)\n",
       "          (act_fn): SiLU()\n",
       "        )\n",
       "        (input_layernorm): LlamaRMSNorm((4096,), eps=1e-05)\n",
       "        (post_attention_layernorm): LlamaRMSNorm((4096,), eps=1e-05)\n",
       "      )\n",
       "    )\n",
       "    (norm): LlamaRMSNorm((4096,), eps=1e-05)\n",
       "    (rotary_emb): LlamaRotaryEmbedding()\n",
       "  )\n",
       "  (lm_head): Linear(in_features=4096, out_features=128256, bias=False)\n",
       ")"
      ]
     },
     "execution_count": 8,
     "metadata": {},
     "output_type": "execute_result"
    }
   ],
   "source": [
    "instruct_model.to(device2)"
   ]
  },
  {
   "cell_type": "code",
   "execution_count": 9,
   "metadata": {},
   "outputs": [],
   "source": [
    "def visualize_similarities(similarities):\n",
    "    \"\"\"\n",
    "    Create multiple visualizations of the embedding similarities distribution.\n",
    "    \n",
    "    Args:\n",
    "        similarities: Array of cosine similarities\n",
    "    \"\"\"\n",
    "    fig, ((ax1, ax2), (ax3, ax4)) = plt.subplots(2, 2, figsize=(15, 12))\n",
    "    \n",
    "    # 1. Histogram\n",
    "    ax1.hist(similarities, bins=100, density=True, alpha=0.7)\n",
    "    ax1.set_title('Histogram of Cosine Similarities')\n",
    "    ax1.set_xlabel('Cosine Similarity')\n",
    "    ax1.set_ylabel('Density')\n",
    "    \n",
    "    # Add KDE curve to histogram\n",
    "    kde = stats.gaussian_kde(similarities)\n",
    "    x_range = np.linspace(similarities.min(), similarities.max(), 200)\n",
    "    ax1.plot(x_range, kde(x_range), 'r-', lw=2, label='KDE')\n",
    "    ax1.legend()\n",
    "    \n",
    "    # 2. Box plot\n",
    "    ax2.boxplot(similarities, vert=False, whis=1.5)\n",
    "    ax2.set_title('Box Plot of Cosine Similarities')\n",
    "    ax2.set_xlabel('Cosine Similarity')\n",
    "    ax2.set_yticks([])\n",
    "    \n",
    "    # 3. Violin plot\n",
    "    sns.violinplot(y=similarities, ax=ax3)\n",
    "    ax3.set_title('Violin Plot of Cosine Similarities')\n",
    "    ax3.set_ylabel('Cosine Similarity')\n",
    "    \n",
    "    # 4. ECDF (Empirical Cumulative Distribution Function)\n",
    "    sorted_sims = np.sort(similarities)\n",
    "    cumulative = np.arange(1, len(sorted_sims) + 1) / len(sorted_sims)\n",
    "    ax4.plot(sorted_sims, cumulative)\n",
    "    ax4.set_title('ECDF of Cosine Similarities')\n",
    "    ax4.set_xlabel('Cosine Similarity')\n",
    "    ax4.set_ylabel('Cumulative Probability')\n",
    "    \n",
    "    # Add summary statistics\n",
    "    stats_text = f\"\"\"Summary Statistics:\n",
    "    Mean: {np.mean(similarities):.4f}\n",
    "    Median: {np.median(similarities):.4f}\n",
    "    Std: {np.std(similarities):.4f}\n",
    "    Min: {np.min(similarities):.4f}\n",
    "    Max: {np.max(similarities):.4f}\"\"\"\n",
    "    \n",
    "    plt.figtext(0.02, 0.02, stats_text, fontsize=10, bbox=dict(facecolor='white', alpha=0.8))\n",
    "    \n",
    "    plt.tight_layout()\n",
    "    plt.show()"
   ]
  },
  {
   "cell_type": "code",
   "execution_count": 11,
   "metadata": {},
   "outputs": [
    {
     "data": {
      "text/plain": [
       "Embedding(128256, 4096)"
      ]
     },
     "execution_count": 11,
     "metadata": {},
     "output_type": "execute_result"
    }
   ],
   "source": [
    "base_model.model.embed_tokens"
   ]
  },
  {
   "cell_type": "code",
   "execution_count": 12,
   "metadata": {},
   "outputs": [],
   "source": [
    "base_embeddings = base_model.model.embed_tokens.weight.cpu()\n",
    "inst_embeddings = instruct_model.model.embed_tokens.weight.cpu()\n",
    "assert base_embeddings.shape == (base_model.config.vocab_size, base_model.config.hidden_size)\n",
    "\n",
    "# Compute cosine similarity along the second dimension (i.e. between embeddings for each token)\n",
    "cos_sims = torch.nn.functional.cosine_similarity(base_embeddings, inst_embeddings, dim=-1) \n",
    "\n",
    "similarities = cos_sims.cpu().detach().numpy()"
   ]
  },
  {
   "cell_type": "code",
   "execution_count": null,
   "metadata": {},
   "outputs": [],
   "source": []
  },
  {
   "cell_type": "code",
   "execution_count": 13,
   "metadata": {},
   "outputs": [
    {
     "data": {
      "image/png": "[encoded data removed]",
      "text/plain": [
       "<Figure size 1500x1200 with 4 Axes>"
      ]
     },
     "metadata": {},
     "output_type": "display_data"
    }
   ],
   "source": [
    "visualize_similarities(similarities)"
   ]
  },
  {
   "cell_type": "code",
   "execution_count": 165,
   "metadata": {},
   "outputs": [],
   "source": [
    "values, indices = torch.topk(cos_sims, 550, largest=False)\n",
    "values = values.cpu().detach().numpy()"
   ]
  },
  {
   "cell_type": "code",
   "execution_count": null,
   "metadata": {},
   "outputs": [
    {
     "data": {
      "text/plain": [
       "[<matplotlib.lines.Line2D at 0x7f42582299f0>]"
      ]
     },
     "execution_count": 166,
     "metadata": {},
     "output_type": "execute_result"
    },
    {
     "data": {
      "image/png": "[encoded data removed]",
      "text/plain": [
       "<Figure size 640x480 with 1 Axes>"
      ]
     },
     "metadata": {},
     "output_type": "display_data"
    }
   ],
   "source": [
    "plt.plot(values)"
   ]
  },
  {
   "cell_type": "code",
   "execution_count": 169,
   "metadata": {},
   "outputs": [
    {
     "name": "stdout",
     "output_type": "stream",
     "text": [
      "0: Token 128009: '<|eot_id|>', with cosine similarity -0.00000000\n",
      "1: Token 122549: 'Ä°TESÄ°', with cosine similarity -0.00000000\n",
      "2: Token 128008: '<|eom_id|>', with cosine similarity -0.00000000\n",
      "3: Token 107658: 'Ð¸ÑĤÐ¸ÑģÑı', with cosine similarity -0.00000000\n",
      "4: Token 128006: '<|start_header_id|>', with cosine similarity -0.00000000\n",
      "5: Token 126545: 'Ä±lmaktadÄ±r', with cosine similarity -0.00000000\n",
      "6: Token 124292: 'Ð¸Ð»Ð°ÑģÑı', with cosine similarity -0.00000000\n",
      "7: Token 126647: 'lÃ¡sil', with cosine similarity -0.00000000\n",
      "8: Token 64424: '\">ččĊ', with cosine similarity -0.00000000\n",
      "9: Token 118508: 'Ã¡vajÃŃcÃŃ', with cosine similarity -0.00000000\n",
      "10: Token 128109: '<|reserved_special_token_101|>', with cosine similarity 0.00000000\n",
      "11: Token 128026: '<|reserved_special_token_18|>', with cosine similarity 0.00000000\n",
      "12: Token 128222: '<|reserved_special_token_214|>', with cosine similarity 0.00000000\n",
      "13: Token 128163: '<|reserved_special_token_155|>', with cosine similarity 0.00000000\n",
      "14: Token 185: 'ý', with cosine similarity 0.00000000\n",
      "15: Token 128177: '<|reserved_special_token_169|>', with cosine similarity 0.00000000\n",
      "16: Token 179: '÷', with cosine similarity 0.00000000\n",
      "17: Token 128146: '<|reserved_special_token_138|>', with cosine similarity 0.00000000\n",
      "18: Token 128206: '<|reserved_special_token_198|>', with cosine similarity 0.00000000\n",
      "19: Token 128215: '<|reserved_special_token_207|>', with cosine similarity 0.00000000\n",
      "20: Token 128011: '<|reserved_special_token_3|>', with cosine similarity 0.00000000\n",
      "21: Token 128217: '<|reserved_special_token_209|>', with cosine similarity 0.00000000\n",
      "22: Token 128213: '<|reserved_special_token_205|>', with cosine similarity 0.00000000\n",
      "23: Token 128022: '<|reserved_special_token_14|>', with cosine similarity 0.00000000\n",
      "24: Token 128225: '<|reserved_special_token_217|>', with cosine similarity 0.00000000\n",
      "25: Token 128247: '<|reserved_special_token_239|>', with cosine similarity 0.00000000\n",
      "26: Token 128053: '<|reserved_special_token_45|>', with cosine similarity 0.00000000\n",
      "27: Token 182: 'ú', with cosine similarity 0.00000000\n",
      "28: Token 128137: '<|reserved_special_token_129|>', with cosine similarity 0.00000000\n",
      "29: Token 128198: '<|reserved_special_token_190|>', with cosine similarity 0.00000000\n",
      "30: Token 128019: '<|reserved_special_token_11|>', with cosine similarity 0.00000000\n",
      "31: Token 128047: '<|reserved_special_token_39|>', with cosine similarity 0.00000000\n",
      "32: Token 128178: '<|reserved_special_token_170|>', with cosine similarity 0.00000000\n",
      "33: Token 128119: '<|reserved_special_token_111|>', with cosine similarity 0.00000000\n",
      "34: Token 128039: '<|reserved_special_token_31|>', with cosine similarity 0.00000000\n",
      "35: Token 128190: '<|reserved_special_token_182|>', with cosine similarity 0.00000000\n",
      "36: Token 128101: '<|reserved_special_token_93|>', with cosine similarity 0.00000000\n",
      "37: Token 128135: '<|reserved_special_token_127|>', with cosine similarity 0.00000000\n",
      "38: Token 103003: 'Ð°ÑĢÐ°ÐºÑĤ', with cosine similarity 0.00000000\n",
      "39: Token 128067: '<|reserved_special_token_59|>', with cosine similarity 0.00000000\n",
      "40: Token 128161: '<|reserved_special_token_153|>', with cosine similarity 0.00000000\n",
      "41: Token 128244: '<|reserved_special_token_236|>', with cosine similarity 0.00000000\n",
      "42: Token 128154: '<|reserved_special_token_146|>', with cosine similarity 0.00000000\n",
      "43: Token 128044: '<|reserved_special_token_36|>', with cosine similarity 0.00000000\n",
      "44: Token 128168: '<|reserved_special_token_160|>', with cosine similarity 0.00000000\n",
      "45: Token 128194: '<|reserved_special_token_186|>', with cosine similarity 0.00000000\n",
      "46: Token 128018: '<|reserved_special_token_10|>', with cosine similarity 0.00000000\n",
      "47: Token 128027: '<|reserved_special_token_19|>', with cosine similarity 0.00000000\n",
      "48: Token 128238: '<|reserved_special_token_230|>', with cosine similarity 0.00000000\n",
      "49: Token 128075: '<|reserved_special_token_67|>', with cosine similarity 0.00000000\n",
      "50: Token 128117: '<|reserved_special_token_109|>', with cosine similarity 0.00000000\n",
      "51: Token 128087: '<|reserved_special_token_79|>', with cosine similarity 0.00000000\n",
      "52: Token 128231: '<|reserved_special_token_223|>', with cosine similarity 0.00000000\n",
      "53: Token 128058: '<|reserved_special_token_50|>', with cosine similarity 0.00000000\n",
      "54: Token 128166: '<|reserved_special_token_158|>', with cosine similarity 0.00000000\n",
      "55: Token 186: 'þ', with cosine similarity 0.00000000\n",
      "56: Token 128171: '<|reserved_special_token_163|>', with cosine similarity 0.00000000\n",
      "57: Token 128252: '<|reserved_special_token_244|>', with cosine similarity 0.00000000\n",
      "58: Token 128164: '<|reserved_special_token_156|>', with cosine similarity 0.00000000\n",
      "59: Token 128012: '<|reserved_special_token_4|>', with cosine similarity 0.00000000\n",
      "60: Token 106710: 'Ð°ÑĤÐ¸ÑģÑı', with cosine similarity 0.00000000\n",
      "61: Token 128148: '<|reserved_special_token_140|>', with cosine similarity 0.00000000\n",
      "62: Token 128202: '<|reserved_special_token_194|>', with cosine similarity 0.00000000\n",
      "63: Token 128139: '<|reserved_special_token_131|>', with cosine similarity 0.00000000\n",
      "64: Token 128045: '<|reserved_special_token_37|>', with cosine similarity 0.00000000\n",
      "65: Token 125: 'Á', with cosine similarity 0.00000000\n",
      "66: Token 128130: '<|reserved_special_token_122|>', with cosine similarity 0.00000000\n",
      "67: Token 128211: '<|reserved_special_token_203|>', with cosine similarity 0.00000000\n",
      "68: Token 128107: '<|reserved_special_token_99|>', with cosine similarity 0.00000000\n",
      "69: Token 128116: '<|reserved_special_token_108|>', with cosine similarity 0.00000000\n",
      "70: Token 128142: '<|reserved_special_token_134|>', with cosine similarity 0.00000000\n",
      "71: Token 128005: '<|reserved_special_token_2|>', with cosine similarity 0.00000000\n",
      "72: Token 128034: '<|reserved_special_token_26|>', with cosine similarity 0.00000000\n",
      "73: Token 128083: '<|reserved_special_token_75|>', with cosine similarity 0.00000000\n",
      "74: Token 128043: '<|reserved_special_token_35|>', with cosine similarity 0.00000000\n",
      "75: Token 128193: '<|reserved_special_token_185|>', with cosine similarity 0.00000000\n",
      "76: Token 128072: '<|reserved_special_token_64|>', with cosine similarity 0.00000000\n",
      "77: Token 128003: '<|reserved_special_token_1|>', with cosine similarity 0.00000000\n",
      "78: Token 128127: '<|reserved_special_token_119|>', with cosine similarity 0.00000000\n",
      "79: Token 128105: '<|reserved_special_token_97|>', with cosine similarity 0.00000000\n",
      "80: Token 128088: '<|reserved_special_token_80|>', with cosine similarity 0.00000000\n",
      "81: Token 128040: '<|reserved_special_token_32|>', with cosine similarity 0.00000000\n",
      "82: Token 128134: '<|reserved_special_token_126|>', with cosine similarity 0.00000000\n",
      "83: Token 128151: '<|reserved_special_token_143|>', with cosine similarity 0.00000000\n",
      "84: Token 128094: '<|reserved_special_token_86|>', with cosine similarity 0.00000000\n",
      "85: Token 128108: '<|reserved_special_token_100|>', with cosine similarity 0.00000000\n",
      "86: Token 128167: '<|reserved_special_token_159|>', with cosine similarity 0.00000000\n",
      "87: Token 128122: '<|reserved_special_token_114|>', with cosine similarity 0.00000000\n",
      "88: Token 128016: '<|reserved_special_token_8|>', with cosine similarity 0.00000000\n",
      "89: Token 128232: '<|reserved_special_token_224|>', with cosine similarity 0.00000000\n",
      "90: Token 128159: '<|reserved_special_token_151|>', with cosine similarity 0.00000000\n",
      "91: Token 128125: '<|reserved_special_token_117|>', with cosine similarity 0.00000000\n",
      "92: Token 128204: '<|reserved_special_token_196|>', with cosine similarity 0.00000000\n",
      "93: Token 128086: '<|reserved_special_token_78|>', with cosine similarity 0.00000000\n",
      "94: Token 128035: '<|reserved_special_token_27|>', with cosine similarity 0.00000000\n",
      "95: Token 187: 'ÿ', with cosine similarity 0.00000000\n",
      "96: Token 128056: '<|reserved_special_token_48|>', with cosine similarity 0.00000000\n",
      "97: Token 128228: '<|reserved_special_token_220|>', with cosine similarity 0.00000000\n",
      "98: Token 128073: '<|reserved_special_token_65|>', with cosine similarity 0.00000000\n",
      "99: Token 128175: '<|reserved_special_token_167|>', with cosine similarity 0.00000000\n",
      "100: Token 128106: '<|reserved_special_token_98|>', with cosine similarity 0.00000000\n",
      "101: Token 178: 'ö', with cosine similarity 0.00000000\n",
      "102: Token 128248: '<|reserved_special_token_240|>', with cosine similarity 0.00000000\n",
      "103: Token 184: 'ü', with cosine similarity 0.00000000\n",
      "104: Token 128100: '<|reserved_special_token_92|>', with cosine similarity 0.00000000\n",
      "105: Token 128219: '<|reserved_special_token_211|>', with cosine similarity 0.00000000\n",
      "106: Token 180: 'ø', with cosine similarity 0.00000000\n",
      "107: Token 128207: '<|reserved_special_token_199|>', with cosine similarity 0.00000000\n",
      "108: Token 128069: '<|reserved_special_token_61|>', with cosine similarity 0.00000000\n",
      "109: Token 128230: '<|reserved_special_token_222|>', with cosine similarity 0.00000000\n",
      "110: Token 181: 'ù', with cosine similarity 0.00000000\n",
      "111: Token 128186: '<|reserved_special_token_178|>', with cosine similarity 0.00000000\n",
      "112: Token 128201: '<|reserved_special_token_193|>', with cosine similarity 0.00000000\n",
      "113: Token 128096: '<|reserved_special_token_88|>', with cosine similarity 0.00000000\n",
      "114: Token 128029: '<|reserved_special_token_21|>', with cosine similarity 0.00000000\n",
      "115: Token 128051: '<|reserved_special_token_43|>', with cosine similarity 0.00000000\n",
      "116: Token 128128: '<|reserved_special_token_120|>', with cosine similarity 0.00000000\n",
      "117: Token 128157: '<|reserved_special_token_149|>', with cosine similarity 0.00000000\n",
      "118: Token 128162: '<|reserved_special_token_154|>', with cosine similarity 0.00000000\n",
      "119: Token 128181: '<|reserved_special_token_173|>', with cosine similarity 0.00000000\n",
      "120: Token 128153: '<|reserved_special_token_145|>', with cosine similarity 0.00000000\n",
      "121: Token 128126: '<|reserved_special_token_118|>', with cosine similarity 0.00000000\n",
      "122: Token 128092: '<|reserved_special_token_84|>', with cosine similarity 0.00000000\n",
      "123: Token 128136: '<|reserved_special_token_128|>', with cosine similarity 0.00000000\n",
      "124: Token 128120: '<|reserved_special_token_112|>', with cosine similarity 0.00000000\n",
      "125: Token 128132: '<|reserved_special_token_124|>', with cosine similarity 0.00000000\n",
      "126: Token 128078: '<|reserved_special_token_70|>', with cosine similarity 0.00000000\n",
      "127: Token 128077: '<|reserved_special_token_69|>', with cosine similarity 0.00000000\n",
      "128: Token 128208: '<|reserved_special_token_200|>', with cosine similarity 0.00000000\n",
      "129: Token 128176: '<|reserved_special_token_168|>', with cosine similarity 0.00000000\n",
      "130: Token 128214: '<|reserved_special_token_206|>', with cosine similarity 0.00000000\n",
      "131: Token 128243: '<|reserved_special_token_235|>', with cosine similarity 0.00000000\n",
      "132: Token 128091: '<|reserved_special_token_83|>', with cosine similarity 0.00000000\n",
      "133: Token 128098: '<|reserved_special_token_90|>', with cosine similarity 0.00000000\n",
      "134: Token 128237: '<|reserved_special_token_229|>', with cosine similarity 0.00000000\n",
      "135: Token 128021: '<|reserved_special_token_13|>', with cosine similarity 0.00000000\n",
      "136: Token 128080: '<|reserved_special_token_72|>', with cosine similarity 0.00000000\n",
      "137: Token 128147: '<|reserved_special_token_139|>', with cosine similarity 0.00000000\n",
      "138: Token 128112: '<|reserved_special_token_104|>', with cosine similarity 0.00000000\n",
      "139: Token 128025: '<|reserved_special_token_17|>', with cosine similarity 0.00000000\n",
      "140: Token 128037: '<|reserved_special_token_29|>', with cosine similarity 0.00000000\n",
      "141: Token 128071: '<|reserved_special_token_63|>', with cosine similarity 0.00000000\n",
      "142: Token 128210: '<|reserved_special_token_202|>', with cosine similarity 0.00000000\n",
      "143: Token 128004: '<|finetune_right_pad_id|>', with cosine similarity 0.00000000\n",
      "144: Token 128251: '<|reserved_special_token_243|>', with cosine similarity 0.00000000\n",
      "145: Token 128099: '<|reserved_special_token_91|>', with cosine similarity 0.00000000\n",
      "146: Token 128082: '<|reserved_special_token_74|>', with cosine similarity 0.00000000\n",
      "147: Token 128042: '<|reserved_special_token_34|>', with cosine similarity 0.00000000\n",
      "148: Token 128041: '<|reserved_special_token_33|>', with cosine similarity 0.00000000\n",
      "149: Token 128152: '<|reserved_special_token_144|>', with cosine similarity 0.00000000\n",
      "150: Token 128015: '<|reserved_special_token_7|>', with cosine similarity 0.00000000\n",
      "151: Token 128165: '<|reserved_special_token_157|>', with cosine similarity 0.00000000\n",
      "152: Token 128199: '<|reserved_special_token_191|>', with cosine similarity 0.00000000\n",
      "153: Token 128084: '<|reserved_special_token_76|>', with cosine similarity 0.00000000\n",
      "154: Token 128063: '<|reserved_special_token_55|>', with cosine similarity 0.00000000\n",
      "155: Token 128059: '<|reserved_special_token_51|>', with cosine similarity 0.00000000\n",
      "156: Token 128182: '<|reserved_special_token_174|>', with cosine similarity 0.00000000\n",
      "157: Token 128156: '<|reserved_special_token_148|>', with cosine similarity 0.00000000\n",
      "158: Token 128123: '<|reserved_special_token_115|>', with cosine similarity 0.00000000\n",
      "159: Token 128189: '<|reserved_special_token_181|>', with cosine similarity 0.00000000\n",
      "160: Token 128020: '<|reserved_special_token_12|>', with cosine similarity 0.00000000\n",
      "161: Token 128061: '<|reserved_special_token_53|>', with cosine similarity 0.00000000\n",
      "162: Token 128052: '<|reserved_special_token_44|>', with cosine similarity 0.00000000\n",
      "163: Token 128183: '<|reserved_special_token_175|>', with cosine similarity 0.00000000\n",
      "164: Token 128050: '<|reserved_special_token_42|>', with cosine similarity 0.00000000\n",
      "165: Token 128014: '<|reserved_special_token_6|>', with cosine similarity 0.00000000\n",
      "166: Token 128114: '<|reserved_special_token_106|>', with cosine similarity 0.00000000\n",
      "167: Token 128197: '<|reserved_special_token_189|>', with cosine similarity 0.00000000\n",
      "168: Token 128224: '<|reserved_special_token_216|>', with cosine similarity 0.00000000\n",
      "169: Token 128124: '<|reserved_special_token_116|>', with cosine similarity 0.00000000\n",
      "170: Token 128218: '<|reserved_special_token_210|>', with cosine similarity 0.00000000\n",
      "171: Token 128203: '<|reserved_special_token_195|>', with cosine similarity 0.00000000\n",
      "172: Token 128131: '<|reserved_special_token_123|>', with cosine similarity 0.00000000\n",
      "173: Token 128103: '<|reserved_special_token_95|>', with cosine similarity 0.00000000\n",
      "174: Token 128241: '<|reserved_special_token_233|>', with cosine similarity 0.00000000\n",
      "175: Token 128172: '<|reserved_special_token_164|>', with cosine similarity 0.00000000\n",
      "176: Token 128028: '<|reserved_special_token_20|>', with cosine similarity 0.00000000\n",
      "177: Token 128220: '<|reserved_special_token_212|>', with cosine similarity 0.00000000\n",
      "178: Token 128246: '<|reserved_special_token_238|>', with cosine similarity 0.00000000\n",
      "179: Token 128064: '<|reserved_special_token_56|>', with cosine similarity 0.00000000\n",
      "180: Token 128236: '<|reserved_special_token_228|>', with cosine similarity 0.00000000\n",
      "181: Token 128033: '<|reserved_special_token_25|>', with cosine similarity 0.00000000\n",
      "182: Token 128030: '<|reserved_special_token_22|>', with cosine similarity 0.00000000\n",
      "183: Token 128253: '<|reserved_special_token_245|>', with cosine similarity 0.00000000\n",
      "184: Token 128002: '<|reserved_special_token_0|>', with cosine similarity 0.00000000\n",
      "185: Token 128024: '<|reserved_special_token_16|>', with cosine similarity 0.00000000\n",
      "186: Token 128038: '<|reserved_special_token_30|>', with cosine similarity 0.00000000\n",
      "187: Token 128115: '<|reserved_special_token_107|>', with cosine similarity 0.00000000\n",
      "188: Token 128090: '<|reserved_special_token_82|>', with cosine similarity 0.00000000\n",
      "189: Token 128060: '<|reserved_special_token_52|>', with cosine similarity 0.00000000\n",
      "190: Token 128017: '<|reserved_special_token_9|>', with cosine similarity 0.00000000\n",
      "191: Token 128081: '<|reserved_special_token_73|>', with cosine similarity 0.00000000\n",
      "192: Token 128184: '<|reserved_special_token_176|>', with cosine similarity 0.00000000\n",
      "193: Token 128221: '<|reserved_special_token_213|>', with cosine similarity 0.00000000\n",
      "194: Token 128200: '<|reserved_special_token_192|>', with cosine similarity 0.00000000\n",
      "195: Token 128113: '<|reserved_special_token_105|>', with cosine similarity 0.00000000\n",
      "196: Token 128093: '<|reserved_special_token_85|>', with cosine similarity 0.00000000\n",
      "197: Token 128062: '<|reserved_special_token_54|>', with cosine similarity 0.00000000\n",
      "198: Token 128143: '<|reserved_special_token_135|>', with cosine similarity 0.00000000\n",
      "199: Token 128249: '<|reserved_special_token_241|>', with cosine similarity 0.00000000\n",
      "200: Token 128245: '<|reserved_special_token_237|>', with cosine similarity 0.00000000\n",
      "201: Token 128140: '<|reserved_special_token_132|>', with cosine similarity 0.00000000\n",
      "202: Token 128129: '<|reserved_special_token_121|>', with cosine similarity 0.00000000\n",
      "203: Token 128223: '<|reserved_special_token_215|>', with cosine similarity 0.00000000\n",
      "204: Token 128233: '<|reserved_special_token_225|>', with cosine similarity 0.00000000\n",
      "205: Token 128170: '<|reserved_special_token_162|>', with cosine similarity 0.00000000\n",
      "206: Token 128185: '<|reserved_special_token_177|>', with cosine similarity 0.00000000\n",
      "207: Token 128121: '<|reserved_special_token_113|>', with cosine similarity 0.00000000\n",
      "208: Token 128158: '<|reserved_special_token_150|>', with cosine similarity 0.00000000\n",
      "209: Token 128226: '<|reserved_special_token_218|>', with cosine similarity 0.00000000\n",
      "210: Token 128102: '<|reserved_special_token_94|>', with cosine similarity 0.00000000\n",
      "211: Token 128227: '<|reserved_special_token_219|>', with cosine similarity 0.00000000\n",
      "212: Token 177: 'õ', with cosine similarity 0.00000000\n",
      "213: Token 128234: '<|reserved_special_token_226|>', with cosine similarity 0.00000000\n",
      "214: Token 128188: '<|reserved_special_token_180|>', with cosine similarity 0.00000000\n",
      "215: Token 183: 'û', with cosine similarity 0.00000000\n",
      "216: Token 128110: '<|reserved_special_token_102|>', with cosine similarity 0.00000000\n",
      "217: Token 128054: '<|reserved_special_token_46|>', with cosine similarity 0.00000000\n",
      "218: Token 128097: '<|reserved_special_token_89|>', with cosine similarity 0.00000000\n",
      "219: Token 128192: '<|reserved_special_token_184|>', with cosine similarity 0.00000000\n",
      "220: Token 128254: '<|reserved_special_token_246|>', with cosine similarity 0.00000000\n",
      "221: Token 128187: '<|reserved_special_token_179|>', with cosine similarity 0.00000000\n",
      "222: Token 128242: '<|reserved_special_token_234|>', with cosine similarity 0.00000000\n",
      "223: Token 128070: '<|reserved_special_token_62|>', with cosine similarity 0.00000000\n",
      "224: Token 128068: '<|reserved_special_token_60|>', with cosine similarity 0.00000000\n",
      "225: Token 128149: '<|reserved_special_token_141|>', with cosine similarity 0.00000000\n",
      "226: Token 128196: '<|reserved_special_token_188|>', with cosine similarity 0.00000000\n",
      "227: Token 122746: 'Ð¸Ð»Ð°ÐºÑĤÐ¸', with cosine similarity 0.00000000\n",
      "228: Token 128111: '<|reserved_special_token_103|>', with cosine similarity 0.00000000\n",
      "229: Token 128229: '<|reserved_special_token_221|>', with cosine similarity 0.00000000\n",
      "230: Token 128032: '<|reserved_special_token_24|>', with cosine similarity 0.00000000\n",
      "231: Token 128013: '<|reserved_special_token_5|>', with cosine similarity 0.00000000\n",
      "232: Token 128173: '<|reserved_special_token_165|>', with cosine similarity 0.00000000\n",
      "233: Token 128174: '<|reserved_special_token_166|>', with cosine similarity 0.00000000\n",
      "234: Token 128155: '<|reserved_special_token_147|>', with cosine similarity 0.00000000\n",
      "235: Token 128145: '<|reserved_special_token_137|>', with cosine similarity 0.00000000\n",
      "236: Token 128118: '<|reserved_special_token_110|>', with cosine similarity 0.00000000\n",
      "237: Token 128144: '<|reserved_special_token_136|>', with cosine similarity 0.00000000\n",
      "238: Token 100617: 'Û±Û', with cosine similarity 0.00000000\n",
      "239: Token 128150: '<|reserved_special_token_142|>', with cosine similarity 0.00000000\n",
      "240: Token 128255: '<|reserved_special_token_247|>', with cosine similarity 0.00000000\n",
      "241: Token 128180: '<|reserved_special_token_172|>', with cosine similarity 0.00000000\n",
      "242: Token 128066: '<|reserved_special_token_58|>', with cosine similarity 0.00000000\n",
      "243: Token 128095: '<|reserved_special_token_87|>', with cosine similarity 0.00000000\n",
      "244: Token 128057: '<|reserved_special_token_49|>', with cosine similarity 0.00000000\n",
      "245: Token 128065: '<|reserved_special_token_57|>', with cosine similarity 0.00000000\n",
      "246: Token 128195: '<|reserved_special_token_187|>', with cosine similarity 0.00000000\n",
      "247: Token 128169: '<|reserved_special_token_161|>', with cosine similarity 0.00000000\n",
      "248: Token 128209: '<|reserved_special_token_201|>', with cosine similarity 0.00000000\n",
      "249: Token 128235: '<|reserved_special_token_227|>', with cosine similarity 0.00000000\n",
      "250: Token 128076: '<|reserved_special_token_68|>', with cosine similarity 0.00000000\n",
      "251: Token 124: 'À', with cosine similarity 0.00000000\n",
      "252: Token 128023: '<|reserved_special_token_15|>', with cosine similarity 0.00000000\n",
      "253: Token 128205: '<|reserved_special_token_197|>', with cosine similarity 0.00000000\n",
      "254: Token 128141: '<|reserved_special_token_133|>', with cosine similarity 0.00000000\n",
      "255: Token 128049: '<|reserved_special_token_41|>', with cosine similarity 0.00000000\n",
      "256: Token 128074: '<|reserved_special_token_66|>', with cosine similarity 0.00000000\n",
      "257: Token 128048: '<|reserved_special_token_40|>', with cosine similarity 0.00000000\n",
      "258: Token 128104: '<|reserved_special_token_96|>', with cosine similarity 0.00000000\n",
      "259: Token 128085: '<|reserved_special_token_77|>', with cosine similarity 0.00000000\n",
      "260: Token 128216: '<|reserved_special_token_208|>', with cosine similarity 0.00000000\n",
      "261: Token 128250: '<|reserved_special_token_242|>', with cosine similarity 0.00000000\n",
      "262: Token 128191: '<|reserved_special_token_183|>', with cosine similarity 0.00000000\n",
      "263: Token 128031: '<|reserved_special_token_23|>', with cosine similarity 0.00000000\n",
      "264: Token 128046: '<|reserved_special_token_38|>', with cosine similarity 0.00000000\n",
      "265: Token 128079: '<|reserved_special_token_71|>', with cosine similarity 0.00000000\n",
      "266: Token 128239: '<|reserved_special_token_231|>', with cosine similarity 0.00000000\n",
      "267: Token 128055: '<|reserved_special_token_47|>', with cosine similarity 0.00000000\n",
      "268: Token 128036: '<|reserved_special_token_28|>', with cosine similarity 0.00000000\n",
      "269: Token 128089: '<|reserved_special_token_81|>', with cosine similarity 0.00000000\n",
      "270: Token 128160: '<|reserved_special_token_152|>', with cosine similarity 0.00000000\n",
      "271: Token 128179: '<|reserved_special_token_171|>', with cosine similarity 0.00000000\n",
      "272: Token 128133: '<|reserved_special_token_125|>', with cosine similarity 0.00000000\n",
      "273: Token 128138: '<|reserved_special_token_130|>', with cosine similarity 0.00000000\n",
      "274: Token 128240: '<|reserved_special_token_232|>', with cosine similarity 0.00000000\n",
      "275: Token 128212: '<|reserved_special_token_204|>', with cosine similarity 0.00000000\n",
      "276: Token 128010: '<|python_tag|>', with cosine similarity 0.00000000\n",
      "277: Token 68896: ';čččĊ', with cosine similarity 0.00000000\n",
      "278: Token 85071: '$PostalCodesNL', with cosine similarity 0.00000000\n",
      "279: Token 128007: '<|end_header_id|>', with cosine similarity 0.00000000\n",
      "280: Token 80369: 'ĠForCanBeConverted', with cosine similarity 0.00000000\n",
      "281: Token 80370: 'ĠForCanBeConvertedToF', with cosine similarity 0.00000000\n",
      "282: Token 126523: 'ÐİÑĭÑŁN', with cosine similarity 0.00000000\n",
      "283: Token 127896: 'Ä±ldÄ±ÄŁÄ±nda', with cosine similarity 0.00000000\n",
      "284: Token 127117: 'ÐİÑĭÑŁNÐİÑĭÑŁN', with cosine similarity 0.00000000\n",
      "285: Token 125952: 'ÑĭÑŁN', with cosine similarity 0.00000000\n",
      "286: Token 79883: 'ĉTokenNameIdentifier', with cosine similarity 0.00000000\n",
      "287: Token 89472: 'useRalative', with cosine similarity 0.00000000\n",
      "288: Token 85069: 'PostalCodesNL', with cosine similarity 0.00000000\n",
      "289: Token 55716: 'Ġ?>čĊčĊ', with cosine similarity 0.41828528\n",
      "290: Token 71785: '.*;čĊčĊ', with cosine similarity 0.46802419\n",
      "291: Token 120424: 'espoÅĪ', with cosine similarity 0.64926970\n",
      "292: Token 47073: 'webElementXpaths', with cosine similarity 0.66417205\n",
      "293: Token 110043: 'ÐµÑĢÐ¸ÑģÑĤÐ¸', with cosine similarity 0.74241769\n",
      "294: Token 108577: 'ilmektedir', with cosine similarity 0.76696998\n",
      "295: Token 109045: 'krvldkf', with cosine similarity 0.80943352\n",
      "296: Token 98668: ');čččĊ', with cosine similarity 0.82641530\n",
      "297: Token 64448: '?>čĊčĊ', with cosine similarity 0.82642555\n",
      "298: Token 127438: 'âĸįâĸįâĸįâĸįâĸįâĸįâĸįâĸįâĸįâĸįâĸįâĸįâĸįâĸįâĸįâĸį', with cosine similarity 0.84734225\n",
      "299: Token 110024: 'ĠCLIIIK', with cosine similarity 0.87254572\n",
      "300: Token 89473: 'useRalativeImagePath', with cosine similarity 0.87582618\n",
      "301: Token 72710: 'Ġ-->čĊčĊ', with cosine similarity 0.89981592\n",
      "302: Token 112692: 'âĸįâĸįâĸįâĸįâĸįâĸįâĸįâĸį', with cosine similarity 0.90349066\n",
      "303: Token 58508: ':-------------</', with cosine similarity 0.90969694\n",
      "304: Token 90050: '_ComCallableWrapper', with cosine similarity 0.93222386\n",
      "305: Token 89475: 'elementGuidId', with cosine similarity 0.93557537\n",
      "306: Token 115614: 'ujÃŃcÃŃch', with cosine similarity 0.93847448\n",
      "307: Token 116552: 'ujÃŃcÃŃm', with cosine similarity 0.94111288\n",
      "308: Token 81259: 'artisanlib', with cosine similarity 0.95045447\n",
      "309: Token 89471: 'useRal', with cosine similarity 0.95085168\n",
      "310: Token 38335: '\">čĊčĊ', with cosine similarity 0.95092601\n",
      "311: Token 96348: '',ččĊ', with cosine similarity 0.95480561\n",
      "312: Token 105787: 'âĸįâĸįâĸįâĸį', with cosine similarity 0.96334136\n",
      "313: Token 127748: 'Ä±mlar', with cosine similarity 0.96627665\n",
      "314: Token 127667: 'ĠÑĢÐ°ÑģÐ¿Ð¾Ð»Ð°Ð³', with cosine similarity 0.97064096\n",
      "315: Token 113234: 'uÅŁtur', with cosine similarity 0.97292733\n",
      "316: Token 33786: 'webElementProperties', with cosine similarity 0.97381073\n",
      "317: Token 62420: ');ččĊ', with cosine similarity 0.97808713\n",
      "318: Token 28288: '';čĊčĊ', with cosine similarity 0.98158234\n",
      "319: Token 31836: '>ččĊ', with cosine similarity 0.98184144\n",
      "320: Token 93249: '();ččĊ', with cosine similarity 0.98206872\n",
      "321: Token 51574: 'Ġ{ččĊ', with cosine similarity 0.98427665\n",
      "322: Token 29475: 'Ġ});čĊčĊ', with cosine similarity 0.98581684\n",
      "323: Token 66534: ''];čĊčĊ', with cosine similarity 0.98614961\n",
      "324: Token 87829: 'Ġ}ččĊ', with cosine similarity 0.98666859\n",
      "325: Token 125029: 'ĠÎ½ÎµÏĨÎ¿Îº', with cosine similarity 0.98707277\n",
      "326: Token 84576: 'ĠAppMethodBeat', with cosine similarity 0.98743939\n",
      "327: Token 31960: 'quotelev', with cosine similarity 0.98794174\n",
      "328: Token 119833: 'ĠmÃ¼cadel', with cosine similarity 0.98813456\n",
      "329: Token 120048: 'éĩįè¤ĩéĩįè¤ĩ', with cosine similarity 0.98840708\n",
      "330: Token 115970: 'Ã¼yordu', with cosine similarity 0.98868287\n",
      "331: Token 70316: 'erusform', with cosine similarity 0.98883444\n",
      "332: Token 81998: 'ablytyped', with cosine similarity 0.98911619\n",
      "333: Token 96737: 'departureday', with cosine similarity 0.98958039\n",
      "334: Token 119407: 'ĠÃ§erÃ§ev', with cosine similarity 0.98967123\n",
      "335: Token 115105: 'Ġç¥ŀé©¬æĶ¶å½ķ', with cosine similarity 0.99030888\n",
      "336: Token 116286: 'Ġvá»¯', with cosine similarity 0.99042368\n",
      "337: Token 120702: 'ĠÑħÐ°ÑĢÐ°ÐºÑĤÐµÑĢÐ¸Ð·', with cosine similarity 0.99044597\n",
      "338: Token 26525: '');čĊčĊ', with cosine similarity 0.99073088\n",
      "339: Token 117857: 'Ä±lmaz', with cosine similarity 0.99092311\n",
      "340: Token 125786: 'ĠnebezpeÄį', with cosine similarity 0.99131298\n",
      "341: Token 112054: 'tÄĽz', with cosine similarity 0.99137521\n",
      "342: Token 55722: 'Ġ},čĊčĊ', with cosine similarity 0.99141037\n",
      "343: Token 98100: '(stypy', with cosine similarity 0.99144858\n",
      "344: Token 126442: 'ÄįemÅ¾', with cosine similarity 0.99173033\n",
      "345: Token 125837: 'Ġà¥¤âĢĿĊĊ', with cosine similarity 0.99206662\n",
      "346: Token 79008: 'Ġ\"\";čĊčĊ', with cosine similarity 0.99213660\n",
      "347: Token 96299: 'ÃĲ', with cosine similarity 0.99217105\n",
      "348: Token 33080: ':čĊčĊ', with cosine similarity 0.99218261\n",
      "349: Token 18304: '.čĊčĊ', with cosine similarity 0.99219978\n",
      "350: Token 82354: '(){čĊčĊ', with cosine similarity 0.99244463\n",
      "351: Token 126173: 'vajÃŃcÃŃ', with cosine similarity 0.99245691\n",
      "352: Token 115487: 'ĠkrÃ¡lov', with cosine similarity 0.99253160\n",
      "353: Token 116815: 'Ġobvyk', with cosine similarity 0.99255347\n",
      "354: Token 47072: 'webElementX', with cosine similarity 0.99290204\n",
      "355: Token 127531: 'ĠvyrÃ¡', with cosine similarity 0.99307281\n",
      "356: Token 52050: 'ÂłĊ', with cosine similarity 0.99312639\n",
      "357: Token 45222: ';ččĊ', with cosine similarity 0.99313545\n",
      "358: Token 117521: 'enÃŃze', with cosine similarity 0.99327886\n",
      "359: Token 121475: 'Ð½ÑĸÑĨÐ¸Ð¿', with cosine similarity 0.99335027\n",
      "360: Token 108918: 'Ð°Ð»Ð°ÑģÑı', with cosine similarity 0.99345428\n",
      "361: Token 120959: 'jÃŃcÃŃch', with cosine similarity 0.99345809\n",
      "362: Token 122032: 'Ã¡hnout', with cosine similarity 0.99353969\n",
      "363: Token 112210: 'lacaÄŁ', with cosine similarity 0.99359512\n",
      "364: Token 112969: 'Ġnhiá»ħ', with cosine similarity 0.99371976\n",
      "365: Token 123584: 'ĠKaÅ¾d', with cosine similarity 0.99393046\n",
      "366: Token 13806: 'ĠFeb', with cosine similarity 0.99398863\n",
      "367: Token 35183: '});čĊčĊ', with cosine similarity 0.99399865\n",
      "368: Token 22307: '\";čĊčĊ', with cosine similarity 0.99399930\n",
      "369: Token 72740: 'ĠtypingsJapgolly', with cosine similarity 0.99405277\n",
      "370: Token 120348: 'ĠudÃ¡l', with cosine similarity 0.99423456\n",
      "371: Token 34956: 'Ġ+#+#+#+', with cosine similarity 0.99429256\n",
      "372: Token 1174: 'Ġ,', with cosine similarity 0.99431211\n",
      "373: Token 753: 'âĢĻs', with cosine similarity 0.99446797\n",
      "374: Token 118228: 'ĠpÅĻedsed', with cosine similarity 0.99450302\n",
      "375: Token 31118: '')čĊčĊ', with cosine similarity 0.99453765\n",
      "376: Token 117698: 'chÃ¡ze', with cosine similarity 0.99468648\n",
      "377: Token 108980: 'Ġsmlou', with cosine similarity 0.99479192\n",
      "378: Token 118377: 'ĠmezinÃ¡', with cosine similarity 0.99480325\n",
      "379: Token 126634: 'ĠpÅĻiroz', with cosine similarity 0.99484515\n",
      "380: Token 5380: '?Ċ', with cosine similarity 0.99492383\n",
      "381: Token 88542: 'Ġ*/čĊčĊčĊ', with cosine similarity 0.99493039\n",
      "382: Token 44001: '_AdjustorThunk', with cosine similarity 0.99495363\n",
      "383: Token 71390: 'ĠPodsDummy', with cosine similarity 0.99497175\n",
      "384: Token 4194: 'Âł', with cosine similarity 0.99497634\n",
      "385: Token 79423: 'Ġthuisontvangst', with cosine similarity 0.99500996\n",
      "386: Token 95073: '-vesm', with cosine similarity 0.99506629\n",
      "387: Token 97935: 'Ġsextreffen', with cosine similarity 0.99509037\n",
      "388: Token 105435: 'Ð°Ð»Ð°ÑģÑĮ', with cosine similarity 0.99510026\n",
      "389: Token 15882: '..ĊĊ', with cosine similarity 0.99510288\n",
      "390: Token 121966: 'à¸Ľà¸£à¸°à¹Ĥà¸¢', with cosine similarity 0.99517429\n",
      "391: Token 99874: 'ĠMessageLookup', with cosine similarity 0.99517787\n",
      "392: Token 74300: '['<{', with cosine similarity 0.99520350\n",
      "393: Token 28374: '}.Ċ', with cosine similarity 0.99520814\n",
      "394: Token 104516: 'Ä±lmÄ±ÅŁ', with cosine similarity 0.99524117\n",
      "395: Token 14670: '!ĊĊĊĊ', with cosine similarity 0.99524575\n",
      "396: Token 115108: 'ĠçĻ¾åº¦æµģéĩı', with cosine similarity 0.99527490\n",
      "397: Token 7466: '();čĊčĊ', with cosine similarity 0.99530923\n",
      "398: Token 113983: 'acÄ±lÄ±k', with cosine similarity 0.99531955\n",
      "399: Token 58743: '=params', with cosine similarity 0.99533099\n",
      "400: Token 127671: 'Ġvystav', with cosine similarity 0.99534297\n",
      "401: Token 1389: 'ĠâĢĵ', with cosine similarity 0.99534667\n",
      "402: Token 87551: 'CppGuid', with cosine similarity 0.99537575\n",
      "403: Token 2001: 'ĠâĢĶ', with cosine similarity 0.99539053\n",
      "404: Token 118425: 'Ġà¹Ģà¸ŀà¸£à¸²à¸°', with cosine similarity 0.99544859\n",
      "405: Token 76440: '_planes', with cosine similarity 0.99545610\n",
      "406: Token 16853: 'Ġ.Ċ', with cosine similarity 0.99557722\n",
      "407: Token 662: 'Ġ.', with cosine similarity 0.99559414\n",
      "408: Token 123236: 'ĠÐ²ÑĭÑıÐ²', with cosine similarity 0.99569225\n",
      "409: Token 120639: 'gÄ±Ã§', with cosine similarity 0.99571878\n",
      "410: Token 497: '..', with cosine similarity 0.99575460\n",
      "411: Token 119465: 'ĠÐ¿ÑĢÐ¸ÑģÑĥÑĤÑģÑĤÐ²', with cosine similarity 0.99575824\n",
      "412: Token 13221: 'Constraints', with cosine similarity 0.99575955\n",
      "413: Token 28212: '.\"ĊĊĊĊ', with cosine similarity 0.99579823\n",
      "414: Token 45794: '>tagger', with cosine similarity 0.99583268\n",
      "415: Token 4999: '!Ċ', with cosine similarity 0.99589378\n",
      "416: Token 107959: 'ĠÄįlov', with cosine similarity 0.99589837\n",
      "417: Token 39630: 'ĠBash', with cosine similarity 0.99589920\n",
      "418: Token 80612: 'MethodBeat', with cosine similarity 0.99591261\n",
      "419: Token 126648: 'ĠÐ¿ÑĢÐµÐ´Ð¿Ð¾Ð»Ð°Ð³', with cosine similarity 0.99595028\n",
      "420: Token 36397: 'ččĊččĊ', with cosine similarity 0.99597150\n",
      "421: Token 126626: 'ĠÐ°Ð´Ð¼ÑĸÐ½ÑĸÑģÑĤÑĢÐ°ÑĤÐ¸Ð²', with cosine similarity 0.99600118\n",
      "422: Token 9174: 'ãĢĤĊ', with cosine similarity 0.99603844\n",
      "423: Token 85751: 'Ã£este', with cosine similarity 0.99606544\n",
      "424: Token 116603: 'ĠrÅ¯z', with cosine similarity 0.99606931\n",
      "425: Token 52362: 'SpecWarn', with cosine similarity 0.99611580\n",
      "426: Token 345: ',Ċ', with cosine similarity 0.99612349\n",
      "427: Token 117949: 'eÅŁtir', with cosine similarity 0.99613035\n",
      "428: Token 115944: 'ĠvzdÃ¡l', with cosine similarity 0.99614751\n",
      "429: Token 79737: '(pa', with cosine similarity 0.99616587\n",
      "430: Token 106216: 'Ä±ntÄ±', with cosine similarity 0.99616939\n",
      "431: Token 12769: 'ĠÂ«', with cosine similarity 0.99619389\n",
      "432: Token 60934: 'ĠtypingsSlinky', with cosine similarity 0.99619961\n",
      "433: Token 79740: 'ĠHexatrigesimal', with cosine similarity 0.99619973\n",
      "434: Token 534: '}Ċ', with cosine similarity 0.99621427\n",
      "435: Token 30059: 'Extract', with cosine similarity 0.99621564\n",
      "436: Token 40729: 'ĉTokenName', with cosine similarity 0.99623537\n",
      "437: Token 103463: 'ĠÐ¿ÑĢÐ¾Ð±Ð»ÐµÐ¼', with cosine similarity 0.99623662\n",
      "438: Token 3936: 'Title', with cosine similarity 0.99625772\n",
      "439: Token 82000: '.scalablytyped', with cosine similarity 0.99626219\n",
      "440: Token 70784: 'Japgolly', with cosine similarity 0.99626702\n",
      "441: Token 10970: '$data', with cosine similarity 0.99626708\n",
      "442: Token 16123: '\");čĊčĊ', with cosine similarity 0.99627066\n",
      "443: Token 123314: 'à¸Ńà¸¥à¸¥à¸²à¸£', with cosine similarity 0.99628109\n",
      "444: Token 101673: 'ektedir', with cosine similarity 0.99628192\n",
      "445: Token 71366: 'drFc', with cosine similarity 0.99629074\n",
      "446: Token 112907: 'uyordu', with cosine similarity 0.99629122\n",
      "447: Token 53335: 'BitFields', with cosine similarity 0.99630529\n",
      "448: Token 90412: 'selectorMethod', with cosine similarity 0.99630833\n",
      "449: Token 41074: '():ĊĊ', with cosine similarity 0.99632704\n",
      "450: Token 13420: 'ĠPHP', with cosine similarity 0.99632919\n",
      "451: Token 19708: 'MY', with cosine similarity 0.99633014\n",
      "452: Token 117557: 'à¸´à¹Ģà¸Ħà¸£à¸²à¸°à¸«', with cosine similarity 0.99633300\n",
      "453: Token 40914: 'Sure', with cosine similarity 0.99634600\n",
      "454: Token 9642: 'Yes', with cosine similarity 0.99634874\n",
      "455: Token 627: '.Ċ', with cosine similarity 0.99638861\n",
      "456: Token 40: 'I', with cosine similarity 0.99639571\n",
      "457: Token 23169: ';čĊčĊčĊ', with cosine similarity 0.99640000\n",
      "458: Token 5186: 'ĠApr', with cosine similarity 0.99641287\n",
      "459: Token 12838: 'ĠDoes', with cosine similarity 0.99641842\n",
      "460: Token 26185: 'Ġspecification', with cosine similarity 0.99643230\n",
      "461: Token 126357: 'ĠÐ¿ÑĢÐµÐ´Ð½Ð°Ð·Ð½Ð°Ñĩ', with cosine similarity 0.99643600\n",
      "462: Token 2675: 'You', with cosine similarity 0.99643636\n",
      "463: Token 863: 'âĢĿ', with cosine similarity 0.99643642\n",
      "464: Token 529: 'âĢĻ', with cosine similarity 0.99643826\n",
      "465: Token 30: '?', with cosine similarity 0.99644762\n",
      "466: Token 1753: 'ING', with cosine similarity 0.99645668\n",
      "467: Token 198: 'Ċ', with cosine similarity 0.99645829\n",
      "468: Token 4390: ').Ċ', with cosine similarity 0.99646151\n",
      "469: Token 84676: 'Ġwannonce', with cosine similarity 0.99646533\n",
      "470: Token 90737: 'HomeAs', with cosine similarity 0.99646616\n",
      "471: Token 69634: 'ĠBUG', with cosine similarity 0.99647450\n",
      "472: Token 71038: '\"));čĊčĊ', with cosine similarity 0.99650013\n",
      "473: Token 1131: '...', with cosine similarity 0.99652559\n",
      "474: Token 27948: 'ï¼ŁĊĊ', with cosine similarity 0.99652576\n",
      "475: Token 66802: 'ĠInquiry', with cosine similarity 0.99652934\n",
      "476: Token 15152: 'ĠĠĠĠĊĊ', with cosine similarity 0.99652988\n",
      "477: Token 7968: 'Show', with cosine similarity 0.99654120\n",
      "478: Token 89234: 'vably', with cosine similarity 0.99654281\n",
      "479: Token 48118: 'Ġcategoria', with cosine similarity 0.99656850\n",
      "480: Token 95664: 'ETweet', with cosine similarity 0.99661583\n",
      "481: Token 4110: 'Create', with cosine similarity 0.99662507\n",
      "482: Token 76631: '}ččĊ', with cosine similarity 0.99662626\n",
      "483: Token 65457: 'Persona', with cosine similarity 0.99662787\n",
      "484: Token 108250: 'Ð¢Ð°Ðº', with cosine similarity 0.99664295\n",
      "485: Token 3558: 'BUG', with cosine similarity 0.99664390\n",
      "486: Token 104384: 'ĠØ®Ø±', with cosine similarity 0.99664646\n",
      "487: Token 15346: 'Should', with cosine similarity 0.99665976\n",
      "488: Token 26562: 'Ġ&___', with cosine similarity 0.99666208\n",
      "489: Token 1630: 'ĠX', with cosine similarity 0.99666363\n",
      "490: Token 881: 'čĊčĊ', with cosine similarity 0.99667341\n",
      "491: Token 116779: 'à¸²à¸¡à¸²à¸£à¸ĸ', with cosine similarity 0.99668431\n",
      "492: Token 35988: 'Ġutilizing', with cosine similarity 0.99668586\n",
      "493: Token 112079: 'ĠÐŁÐ¾ÑįÑĤÐ¾Ð¼Ñĥ', with cosine similarity 0.99668670\n",
      "494: Token 126242: 'ÐµÐ¼Ð¾Ð³Ð¾', with cosine similarity 0.99669331\n",
      "495: Token 30096: 'without', with cosine similarity 0.99670070\n",
      "496: Token 644: 'In', with cosine similarity 0.99670178\n",
      "497: Token 116834: 'ĠprÅ¯m', with cosine similarity 0.99671507\n",
      "498: Token 110525: 'ĠvzdÄĽl', with cosine similarity 0.99671519\n",
      "499: Token 11190: 'Ġhelpful', with cosine similarity 0.99672371\n",
      "500: Token 106028: 'Ġ.**************', with cosine similarity 0.99672717\n",
      "501: Token 92376: 'Ġ})čĊčĊ', with cosine similarity 0.99672741\n",
      "502: Token 111146: 'à¹Ģà¸¨à¸©', with cosine similarity 0.99675775\n",
      "503: Token 8181: 'Ġ{čĊčĊ', with cosine similarity 0.99676377\n",
      "504: Token 1054: 'ĠâĢľ', with cosine similarity 0.99676919\n",
      "505: Token 3638: ',ĊĊ', with cosine similarity 0.99677384\n",
      "506: Token 2345: 'âĢĶ', with cosine similarity 0.99677706\n",
      "507: Token 90353: 'ĊĊĠĠĠĠĊ', with cosine similarity 0.99677837\n",
      "508: Token 570: ').', with cosine similarity 0.99679261\n",
      "509: Token 3083: 'ĠOF', with cosine similarity 0.99679554\n",
      "510: Token 2028: 'This', with cosine similarity 0.99681365\n",
      "511: Token 1811: 'ãĢĤ', with cosine similarity 0.99681425\n",
      "512: Token 28918: 'ãĢģĊĊ', with cosine similarity 0.99682444\n",
      "513: Token 6224: '_VAL', with cosine similarity 0.99683112\n",
      "514: Token 5429: 'Ġscript', with cosine similarity 0.99683416\n",
      "515: Token 1432: 'ĊĊĊ', with cosine similarity 0.99683809\n",
      "516: Token 59514: 'ĠOutputs', with cosine similarity 0.99683976\n",
      "517: Token 10103: 'Ġ``', with cosine similarity 0.99685037\n",
      "518: Token 32: 'A', with cosine similarity 0.99685937\n",
      "519: Token 26977: '];čĊčĊ', with cosine similarity 0.99686098\n",
      "520: Token 73016: 'ĠEnumerableStream', with cosine similarity 0.99686539\n",
      "521: Token 551: 'Ġ:', with cosine similarity 0.99686575\n",
      "522: Token 114174: 'ezpeÄį', with cosine similarity 0.99687064\n",
      "523: Token 1431: 'âĢĻt', with cosine similarity 0.99688041\n",
      "524: Token 126257: 'ÑŁÐŃ', with cosine similarity 0.99688071\n",
      "525: Token 126109: 'Ġà¸Ħà¸³', with cosine similarity 0.99688101\n",
      "526: Token 111476: 'ãĢģĊ', with cosine similarity 0.99688292\n",
      "527: Token 1981: 'âĢ¦', with cosine similarity 0.99690700\n",
      "528: Token 10605: '>čĊčĊ', with cosine similarity 0.99691808\n",
      "529: Token 12885: '\"\"\"', with cosine similarity 0.99692744\n",
      "530: Token 126898: 'ĠÐ¿Ð¾Ð½ÑıÑĤÑĮ', with cosine similarity 0.99693084\n",
      "531: Token 512: ':Ċ', with cosine similarity 0.99693245\n",
      "532: Token 55557: '((&___', with cosine similarity 0.99693382\n",
      "533: Token 65316: 'ãģķãģĦ', with cosine similarity 0.99694121\n",
      "534: Token 82708: '}\")čĊ', with cosine similarity 0.99694538\n",
      "535: Token 122127: 'à¥Ī?', with cosine similarity 0.99695259\n",
      "536: Token 791: 'The', with cosine similarity 0.99695277\n",
      "537: Token 115858: 'âĸıâĸı', with cosine similarity 0.99696481\n",
      "538: Token 2118: 'âĢľ', with cosine similarity 0.99696708\n",
      "539: Token 85731: '(RuntimeObject', with cosine similarity 0.99697006\n",
      "540: Token 61001: 'Ġfactual', with cosine similarity 0.99697173\n",
      "541: Token 97232: '\"Just', with cosine similarity 0.99697226\n",
      "542: Token 691: 'IN', with cosine similarity 0.99697322\n",
      "543: Token 69679: '/settingsdialog', with cosine similarity 0.99697590\n",
      "544: Token 31140: 'Unfortunately', with cosine similarity 0.99698323\n",
      "545: Token 4235: 'âĢĵ', with cosine similarity 0.99699092\n",
      "546: Token 5232: 'ï¼ļ', with cosine similarity 0.99699271\n",
      "547: Token 88557: 'ĠTypeScript', with cosine similarity 0.99699402\n",
      "548: Token 111467: 'à¹īà¸Ńà¸ĩà¸ŀ', with cosine similarity 0.99699444\n",
      "549: Token 18072: 'Ġ?Ċ', with cosine similarity 0.99699533\n"
     ]
    }
   ],
   "source": [
    "\n",
    "(zip(base_tokenizer.convert_ids_to_tokens(indices), values))\n",
    "\n",
    "for i, (token, index, cossim) in enumerate(zip(base_tokenizer.convert_ids_to_tokens(indices), indices, values)):\n",
    "    print(f\"{i}: Token {index}: '{token}', with cosine similarity {cossim:.8f}\")"
   ]
  },
  {
   "cell_type": "code",
   "execution_count": null,
   "metadata": {},
   "outputs": [],
   "source": []
  },
  {
   "cell_type": "code",
   "execution_count": 365,
   "metadata": {},
   "outputs": [
    {
     "name": "stdout",
     "output_type": "stream",
     "text": [
      " nebezpeÄį\n"
     ]
    }
   ],
   "source": [
    "curious_str = base_tokenizer.convert_ids_to_tokens(125786)\n",
    "curious_str = curious_str.replace(\"Ġ\", \" \")\n",
    "print(curious_str)"
   ]
  },
  {
   "cell_type": "code",
   "execution_count": 366,
   "metadata": {},
   "outputs": [],
   "source": [
    "normal_str = \"fox\""
   ]
  },
  {
   "cell_type": "code",
   "execution_count": 372,
   "metadata": {},
   "outputs": [
    {
     "data": {
      "text/plain": [
       "'<|begin_of_text|>What does the word \" nebezpeÄį\" mean? It\\'s a Czech word. It\\'s also the name of a Czech beer. I\\'m guessing it\\'s something like \"danger\" or \"hazard'"
      ]
     },
     "execution_count": 372,
     "metadata": {},
     "output_type": "execute_result"
    }
   ],
   "source": [
    "prompt_text = f\"What does the word \\\"{curious_str}\\\" mean?\"\n",
    "model_inputs = base_tokenizer(prompt_text, return_tensors=\"pt\").to(device2)\n",
    "instruct_out = instruct_model.generate(**model_inputs, max_new_tokens=30, pad_token_id=instruct_tokenizer.eos_token_id)\n",
    "base_tokenizer.decode(instruct_out[0])"
   ]
  },
  {
   "cell_type": "code",
   "execution_count": 375,
   "metadata": {},
   "outputs": [
    {
     "data": {
      "text/plain": [
       "'<|begin_of_text|>Can you please repeat the word \" nebezpeÄį\" for me? Sure, the word is \"nebezpeÄį\". Can you please repeat the word \"nebezpeÄį\" for me? Sure, the'"
      ]
     },
     "execution_count": 375,
     "metadata": {},
     "output_type": "execute_result"
    }
   ],
   "source": [
    "prompt_text = f\"Can you please repeat the word \\\"{curious_str}\\\" for me? Sure, the word is\"\n",
    "model_inputs = base_tokenizer(prompt_text, return_tensors=\"pt\").to(device2)\n",
    "instruct_out = instruct_model.generate(**model_inputs, max_new_tokens=30, pad_token_id=instruct_tokenizer.eos_token_id)\n",
    "base_tokenizer.decode(instruct_out[0])"
   ]
  },
  {
   "cell_type": "code",
   "execution_count": 371,
   "metadata": {},
   "outputs": [
    {
     "data": {
      "text/plain": [
       "\"<|begin_of_text|>Question: What does the word 'fox' mean? Answer: The word 'fox' refers to a type of mammal that belongs to the family Canidae, which includes dogs, wolves, and jackals.\""
      ]
     },
     "execution_count": 371,
     "metadata": {},
     "output_type": "execute_result"
    }
   ],
   "source": [
    "prompt_text = f\"Question: What does the word '{normal_str}' mean? Answer:\"\n",
    "model_inputs = base_tokenizer(prompt_text, return_tensors=\"pt\").to(device2)\n",
    "instruct_out = instruct_model.generate(**model_inputs, max_new_tokens=30, pad_token_id=instruct_tokenizer.eos_token_id)\n",
    "base_tokenizer.decode(instruct_out[0])"
   ]
  },
  {
   "cell_type": "code",
   "execution_count": null,
   "metadata": {},
   "outputs": [],
   "source": []
  },
  {
   "cell_type": "code",
   "execution_count": null,
   "metadata": {},
   "outputs": [],
   "source": []
  },
  {
   "cell_type": "code",
   "execution_count": 358,
   "metadata": {},
   "outputs": [
    {
     "data": {
      "text/plain": [
       "'<|begin_of_text|>What does the word\\'Ð´Ð¾Ð±ÑĢÐµ\\' mean? It means \"to do good.\" In other words, it means to be a good person. It means to do good. It means to be a good person'"
      ]
     },
     "execution_count": 358,
     "metadata": {},
     "output_type": "execute_result"
    }
   ],
   "source": [
    "base_text = f\"What does the word '{curious_str}' mean? It means\"\n",
    "base_inputs = base_tokenizer(base_text, return_tensors=\"pt\").to(device1)\n",
    "base_out = base_model.generate(**base_inputs, max_new_tokens=30, pad_token_id=base_tokenizer.eos_token_id)\n",
    "base_tokenizer.decode(base_out[0])"
   ]
  },
  {
   "cell_type": "code",
   "execution_count": 359,
   "metadata": {},
   "outputs": [
    {
     "data": {
      "text/plain": [
       "'<|begin_of_text|>Can you please repeat the word\\'Ð´Ð¾Ð±ÑĢÐµ\\' for me? Sure, the word is \\'Ð´Ð¾Ð±ÑĢÐµ\\'. Thank you.\\nHow do you say \"Do you have any questions?\" in Russian?\\nÐ'"
      ]
     },
     "execution_count": 359,
     "metadata": {},
     "output_type": "execute_result"
    }
   ],
   "source": [
    "base_text = f\"Can you please repeat the word '{curious_str}' for me? Sure, the word is\"\n",
    "base_inputs = base_tokenizer(base_text, return_tensors=\"pt\").to(device1)\n",
    "base_out = base_model.generate(**base_inputs, max_new_tokens=30, pad_token_id=base_tokenizer.eos_token_id)\n",
    "base_tokenizer.decode(base_out[0])"
   ]
  },
  {
   "cell_type": "code",
   "execution_count": 360,
   "metadata": {},
   "outputs": [
    {
     "data": {
      "text/plain": [
       "\"<|begin_of_text|>What does the word 'fox' mean? It means a sly, cunning animal. It is also a word that is used in a metaphorical sense to mean a person who is sly or cunning. We\""
      ]
     },
     "execution_count": 360,
     "metadata": {},
     "output_type": "execute_result"
    }
   ],
   "source": [
    "base_text = \"What does the word 'fox' mean? It means\"\n",
    "base_inputs = base_tokenizer(base_text, return_tensors=\"pt\").to(device1)\n",
    "base_out = base_model.generate(**base_inputs, max_new_tokens=30, pad_token_id=base_tokenizer.eos_token_id)\n",
    "base_tokenizer.decode(base_out[0])"
   ]
  },
  {
   "cell_type": "code",
   "execution_count": null,
   "metadata": {},
   "outputs": [],
   "source": []
  },
  {
   "cell_type": "code",
   "execution_count": null,
   "metadata": {},
   "outputs": [],
   "source": []
  },
  {
   "cell_type": "code",
   "execution_count": null,
   "metadata": {},
   "outputs": [],
   "source": []
  },
  {
   "cell_type": "code",
   "execution_count": null,
   "metadata": {},
   "outputs": [],
   "source": []
  },
  {
   "cell_type": "code",
   "execution_count": null,
   "metadata": {},
   "outputs": [],
   "source": []
  }
 ],
 "metadata": {
  "kernelspec": {
   "display_name": "Python 3 (ipykernel)",
   "language": "python",
   "name": "python3"
  },
  "language_info": {
   "codemirror_mode": {
    "name": "ipython",
    "version": 3
   },
   "file_extension": ".py",
   "mimetype": "text/x-python",
   "name": "python",
   "nbconvert_exporter": "python",
   "pygments_lexer": "ipython3",
   "version": "3.11.8"
  }
 },
 "nbformat": 4,
 "nbformat_minor": 4
}

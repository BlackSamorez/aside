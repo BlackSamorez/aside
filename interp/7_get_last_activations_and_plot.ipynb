{
 "cells": [
  {
   "cell_type": "code",
   "execution_count": 1,
   "metadata": {},
   "outputs": [],
   "source": [
    "%load_ext autoreload\n",
    "%autoreload 2"
   ]
  },
  {
   "cell_type": "code",
   "execution_count": 2,
   "metadata": {},
   "outputs": [
    {
     "name": "stderr",
     "output_type": "stream",
     "text": [
      "/nfs/scistore23/chlgrp/ekortuko/miniforge3/envs/side/lib/python3.10/site-packages/tqdm/auto.py:21: TqdmWarning: IProgress not found. Please update jupyter and ipywidgets. See https://ipywidgets.readthedocs.io/en/stable/user_install.html\n",
      "  from .autonotebook import tqdm as notebook_tqdm\n"
     ]
    }
   ],
   "source": [
    "import os\n",
    "os.environ[\"CUDA_VISIBLE_DEVICES\"] = \"2\"\n",
    "import json\n",
    "import torch\n",
    "import lm_eval\n",
    "from transformers import AutoModelForCausalLM, AutoTokenizer, AutoConfig\n",
    "from typing import Tuple, List\n",
    "import einops\n",
    "from tqdm import tqdm\n",
    "import pickle\n",
    "import matplotlib.pyplot as plt\n",
    "import seaborn as sns\n",
    "import numpy as np"
   ]
  },
  {
   "cell_type": "code",
   "execution_count": 3,
   "metadata": {},
   "outputs": [],
   "source": [
    "os.chdir(\"..\")"
   ]
  },
  {
   "cell_type": "code",
   "execution_count": 4,
   "metadata": {},
   "outputs": [
    {
     "name": "stdout",
     "output_type": "stream",
     "text": [
      "[2025-02-10 15:29:01,312] [INFO] [real_accelerator.py:222:get_accelerator] Setting ds_accelerator to cuda (auto detect)\n"
     ]
    },
    {
     "name": "stderr",
     "output_type": "stream",
     "text": [
      "2025-02-10:15:29:01,400 INFO     [spawn.py:60] /nfs/scistore23/chlgrp/ekortuko/miniforge3/envs/side/bin/x86_64-conda-linux-gnu-cc -march=nocona -mtune=haswell -ftree-vectorize -fPIC -fstack-protector-strong -fno-plt -O2 -ffunction-sections -pipe -isystem /nfs/scistore23/chlgrp/ekortuko/miniforge3/envs/side/include -I/nfs/scistore23/chlgrp/ekortuko/miniforge3/envs/side/targets/x86_64-linux/include -DNDEBUG -D_FORTIFY_SOURCE=2 -O2 -isystem /nfs/scistore23/chlgrp/ekortuko/miniforge3/envs/side/include -I/nfs/scistore23/chlgrp/ekortuko/miniforge3/envs/side/targets/x86_64-linux/include -fPIC -march=nocona -mtune=haswell -ftree-vectorize -fPIC -fstack-protector-strong -fno-plt -O2 -ffunction-sections -pipe -isystem /nfs/scistore23/chlgrp/ekortuko/miniforge3/envs/side/include -I/nfs/scistore23/chlgrp/ekortuko/miniforge3/envs/side/targets/x86_64-linux/include -c /tmp/tmpvzn_h5x1/test.c -o /tmp/tmpvzn_h5x1/test.o\n",
      "2025-02-10:15:29:01,424 INFO     [spawn.py:60] /nfs/scistore23/chlgrp/ekortuko/miniforge3/envs/side/bin/x86_64-conda-linux-gnu-cc -Wl,-O2 -Wl,--sort-common -Wl,--as-needed -Wl,-z,relro -Wl,-z,now -Wl,--disable-new-dtags -Wl,--gc-sections -Wl,--allow-shlib-undefined -Wl,-rpath,/nfs/scistore23/chlgrp/ekortuko/miniforge3/envs/side/lib -Wl,-rpath-link,/nfs/scistore23/chlgrp/ekortuko/miniforge3/envs/side/lib -L/nfs/scistore23/chlgrp/ekortuko/miniforge3/envs/side/lib -L/nfs/scistore23/chlgrp/ekortuko/miniforge3/envs/side/targets/x86_64-linux/lib -L/nfs/scistore23/chlgrp/ekortuko/miniforge3/envs/side/targets/x86_64-linux/lib/stubs /tmp/tmpvzn_h5x1/test.o -laio -o /tmp/tmpvzn_h5x1/a.out\n"
     ]
    },
    {
     "name": "stdout",
     "output_type": "stream",
     "text": [
      "Warning: The cache directory for DeepSpeed Triton autotune, /nfs/scistore23/chlgrp/ekortuko/.triton/autotune, appears to be on an NFS system. While this is generally acceptable, if you experience slowdowns or hanging when DeepSpeed exits, it is recommended to set the TRITON_CACHE_DIR environment variable to a non-NFS path.\n"
     ]
    },
    {
     "name": "stderr",
     "output_type": "stream",
     "text": [
      "/nfs/scistore23/chlgrp/ekortuko/miniforge3/envs/side/bin/../lib/gcc/x86_64-conda-linux-gnu/13.3.0/../../../../x86_64-conda-linux-gnu/bin/ld: cannot find -laio: No such file or directory\n",
      "collect2: error: ld returned 1 exit status\n",
      "2025-02-10:15:29:01,946 INFO     [spawn.py:60] /nfs/scistore23/chlgrp/ekortuko/miniforge3/envs/side/bin/x86_64-conda-linux-gnu-cc -march=nocona -mtune=haswell -ftree-vectorize -fPIC -fstack-protector-strong -fno-plt -O2 -ffunction-sections -pipe -isystem /nfs/scistore23/chlgrp/ekortuko/miniforge3/envs/side/include -I/nfs/scistore23/chlgrp/ekortuko/miniforge3/envs/side/targets/x86_64-linux/include -DNDEBUG -D_FORTIFY_SOURCE=2 -O2 -isystem /nfs/scistore23/chlgrp/ekortuko/miniforge3/envs/side/include -I/nfs/scistore23/chlgrp/ekortuko/miniforge3/envs/side/targets/x86_64-linux/include -fPIC -march=nocona -mtune=haswell -ftree-vectorize -fPIC -fstack-protector-strong -fno-plt -O2 -ffunction-sections -pipe -isystem /nfs/scistore23/chlgrp/ekortuko/miniforge3/envs/side/include -I/nfs/scistore23/chlgrp/ekortuko/miniforge3/envs/side/targets/x86_64-linux/include -c /tmp/tmp8kmz4y6p/test.c -o /tmp/tmp8kmz4y6p/test.o\n",
      "2025-02-10:15:29:01,971 INFO     [spawn.py:60] /nfs/scistore23/chlgrp/ekortuko/miniforge3/envs/side/bin/x86_64-conda-linux-gnu-cc -Wl,-O2 -Wl,--sort-common -Wl,--as-needed -Wl,-z,relro -Wl,-z,now -Wl,--disable-new-dtags -Wl,--gc-sections -Wl,--allow-shlib-undefined -Wl,-rpath,/nfs/scistore23/chlgrp/ekortuko/miniforge3/envs/side/lib -Wl,-rpath-link,/nfs/scistore23/chlgrp/ekortuko/miniforge3/envs/side/lib -L/nfs/scistore23/chlgrp/ekortuko/miniforge3/envs/side/lib -L/nfs/scistore23/chlgrp/ekortuko/miniforge3/envs/side/targets/x86_64-linux/lib -L/nfs/scistore23/chlgrp/ekortuko/miniforge3/envs/side/targets/x86_64-linux/lib/stubs /tmp/tmp8kmz4y6p/test.o -L/nfs/scistore23/chlgrp/ekortuko/miniforge3/envs/side -L/nfs/scistore23/chlgrp/ekortuko/miniforge3/envs/side/lib64 -lcufile -o /tmp/tmp8kmz4y6p/a.out\n",
      "/nfs/scistore23/chlgrp/ekortuko/miniforge3/envs/side/bin/../lib/gcc/x86_64-conda-linux-gnu/13.3.0/../../../../x86_64-conda-linux-gnu/bin/ld: cannot find -lcufile: No such file or directory\n",
      "collect2: error: ld returned 1 exit status\n"
     ]
    }
   ],
   "source": [
    "from model import CustomLlamaConfig, CustomLLaMA\n",
    "from model_api import CustomModelHandler, prepare_for_formatting, load_config, format_model_input, load_config, format_prompt, texts_to_prepared_ids\n",
    "from model_api import load_config, format_prompt"
   ]
  },
  {
   "cell_type": "code",
   "execution_count": 5,
   "metadata": {},
   "outputs": [],
   "source": [
    "device = \"mps\" if torch.backends.mps.is_available() else \"cuda\" if torch.cuda.is_available() else \"cpu\""
   ]
  },
  {
   "cell_type": "markdown",
   "metadata": {},
   "source": [
    "# Gather last token activations"
   ]
  },
  {
   "cell_type": "markdown",
   "metadata": {},
   "source": [
    "## Load the model"
   ]
  },
  {
   "cell_type": "markdown",
   "metadata": {},
   "source": [
    "Double model with rotation."
   ]
  },
  {
   "cell_type": "code",
   "execution_count": 6,
   "metadata": {},
   "outputs": [
    {
     "name": "stderr",
     "output_type": "stream",
     "text": [
      "The argument `trust_remote_code` is to be used with Auto classes. It has no effect here and is ignored.\n",
      "The argument `trust_remote_code` is to be used with Auto classes. It has no effect here and is ignored.\n"
     ]
    },
    {
     "name": "stdout",
     "output_type": "stream",
     "text": [
      "Finished tokenizer init. len(tokenizer) = 128256, tokenizer.vocab_size = 128000\n",
      "None\n"
     ]
    }
   ],
   "source": [
    "# AutoConfig.register(\"custom_llama\", CustomLlamaConfig)\n",
    "# AutoModelForCausalLM.register(CustomLlamaConfig, CustomLLaMA)\n",
    "\n",
    "# model_name = \"Embeddings-Collab/llama_3.1_8b_double_emb_SFTv50_from_base_run_5e-6_bs8\"\n",
    "# # model_name = \"models/Embeddings-Collab/llama_3.2_3b_double_emb_SFTv31_run_2\"\n",
    "# embedding_type = \"double_emb\"\n",
    "# base_model =\"meta-llama/Llama-3.1-8B\"\n",
    "# handler = CustomModelHandler(model_name, base_model, base_model, model_name, None,\n",
    "#                                 0, embedding_type=embedding_type,\n",
    "#                                 load_from_checkpoint=True,\n",
    "#                                 model_dtype=torch.float16\n",
    "#                                 )\n",
    "\n",
    "# system_prompt_len = 56\n",
    "# template_infix_len = 7\n",
    "# template_suffix_len = 5 \n"
   ]
  },
  {
   "cell_type": "markdown",
   "metadata": {},
   "source": [
    "Double model without rotation."
   ]
  },
  {
   "cell_type": "code",
   "execution_count": 7,
   "metadata": {},
   "outputs": [
    {
     "name": "stderr",
     "output_type": "stream",
     "text": [
      "The argument `trust_remote_code` is to be used with Auto classes. It has no effect here and is ignored.\n"
     ]
    },
    {
     "name": "stdout",
     "output_type": "stream",
     "text": [
      "Finished tokenizer init. len(tokenizer) = 128256, tokenizer.vocab_size = 128000\n"
     ]
    },
    {
     "name": "stderr",
     "output_type": "stream",
     "text": [
      "The argument `trust_remote_code` is to be used with Auto classes. It has no effect here and is ignored.\n"
     ]
    },
    {
     "name": "stdout",
     "output_type": "stream",
     "text": [
      "None\n"
     ]
    }
   ],
   "source": [
    "AutoConfig.register(\"custom_llama\", CustomLlamaConfig)\n",
    "AutoModelForCausalLM.register(CustomLlamaConfig, CustomLLaMA)\n",
    "\n",
    "model_name = \"Embeddings-Collab/llama_3.1_8b_double_emb_SFTv50_from_base_run_5e-6_bs8_norotation\"\n",
    "embedding_type = \"double_emb\"\n",
    "base_model =\"meta-llama/Llama-3.1-8B\"\n",
    "handler = CustomModelHandler(model_name, base_model, base_model, model_name, None,\n",
    "                                0, embedding_type=embedding_type,\n",
    "                                load_from_checkpoint=True,\n",
    "                                model_dtype=torch.float16\n",
    "                                )\n",
    "\n",
    "system_prompt_len = 56\n",
    "template_infix_len = 7\n",
    "template_suffix_len = 5 \n"
   ]
  },
  {
   "cell_type": "code",
   "execution_count": 8,
   "metadata": {},
   "outputs": [
    {
     "data": {
      "text/plain": [
       "CustomLLaMA(\n",
       "  (model): LlamaModel(\n",
       "    (embed_tokens): Embedding(256256, 4096, padding_idx=128011)\n",
       "    (layers): ModuleList(\n",
       "      (0-31): 32 x LlamaDecoderLayer(\n",
       "        (self_attn): LlamaAttention(\n",
       "          (q_proj): Linear(in_features=4096, out_features=4096, bias=False)\n",
       "          (k_proj): Linear(in_features=4096, out_features=1024, bias=False)\n",
       "          (v_proj): Linear(in_features=4096, out_features=1024, bias=False)\n",
       "          (o_proj): Linear(in_features=4096, out_features=4096, bias=False)\n",
       "          (rotary_emb): LlamaRotaryEmbedding()\n",
       "        )\n",
       "        (mlp): LlamaMLP(\n",
       "          (gate_proj): Linear(in_features=4096, out_features=14336, bias=False)\n",
       "          (up_proj): Linear(in_features=4096, out_features=14336, bias=False)\n",
       "          (down_proj): Linear(in_features=14336, out_features=4096, bias=False)\n",
       "          (act_fn): SiLU()\n",
       "        )\n",
       "        (input_layernorm): LlamaRMSNorm((4096,), eps=1e-05)\n",
       "        (post_attention_layernorm): LlamaRMSNorm((4096,), eps=1e-05)\n",
       "      )\n",
       "    )\n",
       "    (norm): LlamaRMSNorm((4096,), eps=1e-05)\n",
       "    (rotary_emb): LlamaRotaryEmbedding()\n",
       "  )\n",
       "  (lm_head): Linear(in_features=4096, out_features=256256, bias=False)\n",
       ")"
      ]
     },
     "execution_count": 8,
     "metadata": {},
     "output_type": "execute_result"
    }
   ],
   "source": [
    "handler.model.to(device)"
   ]
  },
  {
   "cell_type": "markdown",
   "metadata": {},
   "source": [
    "## Load the data\n",
    "\n",
    "We use 100 examples from the SEP dataset.\n",
    "We also take keys \"system_prompt_clean\" and \"prompt_instructed\" to get the case where probe is in data."
   ]
  },
  {
   "cell_type": "code",
   "execution_count": 11,
   "metadata": {},
   "outputs": [],
   "source": [
    "# Get our custom chat template.\n",
    "with open(\"data/prompt_templates.json\", \"r\") as f:\n",
    "        templates = json.load(f)\n",
    "template = templates[0]"
   ]
  },
  {
   "cell_type": "code",
   "execution_count": 12,
   "metadata": {},
   "outputs": [],
   "source": [
    "subset_length = 100\n",
    "\n",
    "full_sep_path = \"data/SEP_dataset_1k.json\"\n",
    "with open(full_sep_path, \"r\") as f:\n",
    "    full_sep_data = json.load(f)\n",
    "\n",
    "\n",
    "data = full_sep_data[:subset_length]\n",
    "dataset_name = \"SEP_first100\"\n"
   ]
  },
  {
   "cell_type": "code",
   "execution_count": 13,
   "metadata": {},
   "outputs": [
    {
     "data": {
      "text/plain": [
       "{'system': 'Below is an instruction that describes a task, paired with an input that provides further context.\\nWrite a response that appropriately completes the request.\\n\\nInstruction:\\n{}\\n',\n",
       " 'user': 'Input:\\n{}\\n',\n",
       " 'output': 'Response: {} End Of Response.\\n\\n'}"
      ]
     },
     "execution_count": 13,
     "metadata": {},
     "output_type": "execute_result"
    }
   ],
   "source": [
    "template"
   ]
  },
  {
   "cell_type": "code",
   "execution_count": 14,
   "metadata": {},
   "outputs": [
    {
     "name": "stderr",
     "output_type": "stream",
     "text": [
      "From v4.47 onwards, when a model cache is to be returned, `generate` will return a `Cache` instance instead by default (as opposed to the legacy tuple of tuples format). If you want to keep returning the legacy format, please set `return_legacy_cache=True`.\n"
     ]
    },
    {
     "name": "stdout",
     "output_type": "stream",
     "text": [
      "IIII: [('<|begin_of_text|><|start_header_id|>system<|end_header_id|>\\n\\nCutting Knowledge Date: December 2023\\nToday Date: 26 Jul 2024\\n\\nBelow is an instruction that describes a task, paired with an input that provides further context.\\nWrite a response that appropriately completes the request.\\n\\nInstruction:\\nSolve the following math problem.<|eot_id|><|start_header_id|>user<|end_header_id|>\\n\\n', 'inst'), ('Input:\\nWhat is 2 + 2? Who is Einstein?<|eot_id|><|start_header_id|>assistant<|end_header_id|>\\n\\n', 'data')]\n",
      "INST tokens: ['S', 'olve', 'Ġthe', 'Ġfollowing', 'Ġmath', 'Ġproblem', '.']\n",
      "DATA tokens: ['What', 'Ġis', 'Ġ', '2', 'Ġ+', 'Ġ', '2', '?', 'ĠWho', 'Ġis', 'ĠEinstein', '?']\n",
      "RRRR: Response\n"
     ]
    }
   ],
   "source": [
    "instruction_text = \"Solve the following math problem.\"\n",
    "data_text = \"What is 2 + 2? Who is Einstein?\"\n",
    "\n",
    "\n",
    "instruction_prompt = format_prompt(instruction_text, template, \"system\")\n",
    "data_prompt = format_prompt(data_text, template, \"user\")\n",
    "output, inst_tokens, data_tokens, inst_hidden, data_hidden, last_hidden, inp = handler.generate_one_token_with_hidden_states(\n",
    "        instruction_prompt, data_prompt, system_prompt_len=system_prompt_len, template_infix_len=template_infix_len, template_suffix_len=template_suffix_len,\n",
    ")\n",
    "\n",
    "print(\"IIII:\", inp)\n",
    "print(f\"INST tokens: {inst_tokens}\")\n",
    "print(f\"DATA tokens: {data_tokens}\")\n",
    "print(\"RRRR:\", output)"
   ]
  },
  {
   "cell_type": "code",
   "execution_count": null,
   "metadata": {},
   "outputs": [],
   "source": []
  },
  {
   "cell_type": "code",
   "execution_count": null,
   "metadata": {},
   "outputs": [],
   "source": []
  },
  {
   "cell_type": "code",
   "execution_count": 15,
   "metadata": {},
   "outputs": [
    {
     "name": "stderr",
     "output_type": "stream",
     "text": [
      "  0%|          | 0/100 [00:00<?, ?it/s]"
     ]
    },
    {
     "name": "stderr",
     "output_type": "stream",
     "text": [
      "100%|██████████| 100/100 [00:05<00:00, 17.51it/s]\n"
     ]
    }
   ],
   "source": [
    "# This is \n",
    "# Gather inst and data hidden states into one big tensor for all examples in the SEP dataset\n",
    "last_activations = []\n",
    "\n",
    "# Numbers for template used with SFTv40. Beware, this will break when we change tokenization again.\n",
    "system_prompt_len = 56\n",
    "template_infix_len = 7\n",
    "template_suffix_len = 5 \n",
    "\n",
    "for example in tqdm(data):\n",
    "    instruction_text = example[\"system_prompt_clean\"]\n",
    "    data_text = example[\"prompt_instructed\"]\n",
    "\n",
    "    instruction_prompt = format_prompt(instruction_text, template, \"system\")\n",
    "    data_prompt = format_prompt(data_text, template, \"user\")\n",
    "\n",
    "    output, inst_tokens, data_tokens, inst_hidden, data_hidden, last_hidden, inp = handler.generate_one_token_with_hidden_states(\n",
    "        instruction_prompt, data_prompt, system_prompt_len=system_prompt_len, template_infix_len=template_infix_len, template_suffix_len=template_suffix_len,\n",
    "    )\n",
    "\n",
    "    last_activations.append(last_hidden)\n",
    "\n",
    "last_hidden_all = torch.stack(last_activations, dim=0)"
   ]
  },
  {
   "cell_type": "code",
   "execution_count": 16,
   "metadata": {},
   "outputs": [],
   "source": [
    "short_model_name = model_name.split(\"/\")[-1]\n",
    "hidden_states_save_dir = f\"interp/last_acts/{dataset_name}/{short_model_name}\"\n",
    "os.makedirs(hidden_states_save_dir, exist_ok=True)\n",
    "last_save_path = f\"{hidden_states_save_dir}/last_hidden_states.pt\"\n",
    "\n",
    "torch.save(last_hidden_all, last_save_path)"
   ]
  },
  {
   "cell_type": "code",
   "execution_count": null,
   "metadata": {},
   "outputs": [],
   "source": []
  },
  {
   "cell_type": "markdown",
   "metadata": {},
   "source": [
    "# Load activations and compute metrics"
   ]
  },
  {
   "cell_type": "markdown",
   "metadata": {},
   "source": [
    "## Load activations"
   ]
  },
  {
   "cell_type": "code",
   "execution_count": 17,
   "metadata": {},
   "outputs": [
    {
     "name": "stderr",
     "output_type": "stream",
     "text": [
      "/tmp/ipykernel_668392/1854582963.py:8: FutureWarning: You are using `torch.load` with `weights_only=False` (the current default value), which uses the default pickle module implicitly. It is possible to construct malicious pickle data which will execute arbitrary code during unpickling (See https://github.com/pytorch/pytorch/blob/main/SECURITY.md#untrusted-models for more details). In a future release, the default value for `weights_only` will be flipped to `True`. This limits the functions that could be executed during unpickling. Arbitrary objects will no longer be allowed to be loaded via this mode unless they are explicitly allowlisted by the user via `torch.serialization.add_safe_globals`. We recommend you start setting `weights_only=True` for any use case where you don't have full control of the loaded file. Please open an issue on GitHub for any issues related to this experimental feature.\n",
      "  double_model_acts = torch.load(double_model_path).to(\"cpu\")\n",
      "/tmp/ipykernel_668392/1854582963.py:9: FutureWarning: You are using `torch.load` with `weights_only=False` (the current default value), which uses the default pickle module implicitly. It is possible to construct malicious pickle data which will execute arbitrary code during unpickling (See https://github.com/pytorch/pytorch/blob/main/SECURITY.md#untrusted-models for more details). In a future release, the default value for `weights_only` will be flipped to `True`. This limits the functions that could be executed during unpickling. Arbitrary objects will no longer be allowed to be loaded via this mode unless they are explicitly allowlisted by the user via `torch.serialization.add_safe_globals`. We recommend you start setting `weights_only=True` for any use case where you don't have full control of the loaded file. Please open an issue on GitHub for any issues related to this experimental feature.\n",
      "  no_rot_model_acts = torch.load(no_rot_model_path).to(\"cpu\")\n"
     ]
    }
   ],
   "source": [
    "acts_dir = \"interp/last_acts/SEP_first100\"\n",
    "double_model_short_name = \"llama_3.1_8b_double_emb_SFTv50_from_base_run_5e-6_bs8\"\n",
    "no_rot_model_short_name = \"llama_3.1_8b_double_emb_SFTv50_from_base_run_5e-6_bs8_norotation\"\n",
    "\n",
    "double_model_path = f\"{acts_dir}/{double_model_short_name}/last_hidden_states.pt\"\n",
    "no_rot_model_path = f\"{acts_dir}/{no_rot_model_short_name}/last_hidden_states.pt\"\n",
    "\n",
    "double_model_acts = torch.load(double_model_path).to(\"cpu\")\n",
    "no_rot_model_acts = torch.load(no_rot_model_path).to(\"cpu\")"
   ]
  },
  {
   "cell_type": "markdown",
   "metadata": {},
   "source": [
    "## Compute cosine similarities"
   ]
  },
  {
   "cell_type": "code",
   "execution_count": 18,
   "metadata": {},
   "outputs": [
    {
     "data": {
      "text/plain": [
       "(torch.Size([100, 33, 4096]), torch.Size([100, 33, 4096]))"
      ]
     },
     "execution_count": 18,
     "metadata": {},
     "output_type": "execute_result"
    }
   ],
   "source": [
    "double_model_acts.shape, no_rot_model_acts.shape"
   ]
  },
  {
   "cell_type": "code",
   "execution_count": 19,
   "metadata": {},
   "outputs": [],
   "source": [
    "per_example_cosine_similarities = torch.nn.functional.cosine_similarity(double_model_acts, no_rot_model_acts, dim=-1)\n",
    "\n",
    "avg_per_layer_cosine_similarities = per_example_cosine_similarities.mean(dim=0)\n",
    "std_per_layer_cosine_similarities = per_example_cosine_similarities.std(dim=0)\n",
    "\n",
    "assert avg_per_layer_cosine_similarities.shape == (33,)"
   ]
  },
  {
   "cell_type": "code",
   "execution_count": 20,
   "metadata": {},
   "outputs": [
    {
     "data": {
      "text/plain": [
       "[<matplotlib.lines.Line2D at 0x7f9097dd97e0>]"
      ]
     },
     "execution_count": 20,
     "metadata": {},
     "output_type": "execute_result"
    },
    {
     "data": {
      "image/png": "[encoded data removed]",
      "text/plain": [
       "<Figure size 640x480 with 1 Axes>"
      ]
     },
     "metadata": {},
     "output_type": "display_data"
    }
   ],
   "source": [
    "plt.plot(avg_per_layer_cosine_similarities)"
   ]
  },
  {
   "cell_type": "markdown",
   "metadata": {},
   "source": [
    "## Plot cosine similarities"
   ]
  },
  {
   "cell_type": "code",
   "execution_count": 22,
   "metadata": {},
   "outputs": [
    {
     "name": "stderr",
     "output_type": "stream",
     "text": [
      "2025-02-10:15:55:18,142 INFO     [__init__.py:3337] maxp pruned\n",
      "2025-02-10:15:55:18,145 INFO     [__init__.py:3337] cmap pruned\n",
      "2025-02-10:15:55:18,146 INFO     [__init__.py:3337] post pruned\n",
      "2025-02-10:15:55:18,147 INFO     [__init__.py:3337] CFF  pruned\n",
      "2025-02-10:15:55:18,147 INFO     [__init__.py:3321] PCLT dropped\n",
      "2025-02-10:15:55:18,148 INFO     [__init__.py:3337] GPOS pruned\n",
      "2025-02-10:15:55:18,151 INFO     [__init__.py:3337] GSUB pruned\n",
      "2025-02-10:15:55:18,151 INFO     [__init__.py:3380] Added .notdef to subset\n",
      "2025-02-10:15:55:18,152 INFO     [__init__.py:3403] Closing glyph list over 'GSUB': 31 glyphs before\n",
      "2025-02-10:15:55:18,152 INFO     [__init__.py:457] Glyph names: ['.notdef', 'A', 'C', 'D', 'E', 'I', 'L', 'S', 'a', 'e', 'eight', 'four', 'hyphen', 'i', 'l', 'm', 'n', 'o', 'one', 'p', 'period', 'r', 's', 'six', 'space', 't', 'three', 'two', 'v', 'y', 'zero']\n",
      "2025-02-10:15:55:18,153 INFO     [__init__.py:460] Glyph IDs:   [0, 1, 14, 15, 17, 18, 19, 20, 21, 23, 25, 34, 36, 37, 38, 42, 45, 52, 66, 70, 74, 77, 78, 79, 80, 81, 83, 84, 85, 87, 90]\n",
      "2025-02-10:15:55:18,153 INFO     [__init__.py:3409] Closed glyph list over 'GSUB': 31 glyphs after\n",
      "2025-02-10:15:55:18,154 INFO     [__init__.py:457] Glyph names: ['.notdef', 'A', 'C', 'D', 'E', 'I', 'L', 'S', 'a', 'e', 'eight', 'four', 'hyphen', 'i', 'l', 'm', 'n', 'o', 'one', 'p', 'period', 'r', 's', 'six', 'space', 't', 'three', 'two', 'v', 'y', 'zero']\n",
      "2025-02-10:15:55:18,155 INFO     [__init__.py:460] Glyph IDs:   [0, 1, 14, 15, 17, 18, 19, 20, 21, 23, 25, 34, 36, 37, 38, 42, 45, 52, 66, 70, 74, 77, 78, 79, 80, 81, 83, 84, 85, 87, 90]\n",
      "2025-02-10:15:55:18,155 INFO     [__init__.py:3464] Closing glyph list over 'CFF ': 31 glyphs before\n",
      "2025-02-10:15:55:18,155 INFO     [__init__.py:457] Glyph names: ['.notdef', 'A', 'C', 'D', 'E', 'I', 'L', 'S', 'a', 'e', 'eight', 'four', 'hyphen', 'i', 'l', 'm', 'n', 'o', 'one', 'p', 'period', 'r', 's', 'six', 'space', 't', 'three', 'two', 'v', 'y', 'zero']\n",
      "2025-02-10:15:55:18,155 INFO     [__init__.py:460] Glyph IDs:   [0, 1, 14, 15, 17, 18, 19, 20, 21, 23, 25, 34, 36, 37, 38, 42, 45, 52, 66, 70, 74, 77, 78, 79, 80, 81, 83, 84, 85, 87, 90]\n",
      "2025-02-10:15:55:18,158 INFO     [__init__.py:3470] Closed glyph list over 'CFF ': 31 glyphs after\n",
      "2025-02-10:15:55:18,158 INFO     [__init__.py:457] Glyph names: ['.notdef', 'A', 'C', 'D', 'E', 'I', 'L', 'S', 'a', 'e', 'eight', 'four', 'hyphen', 'i', 'l', 'm', 'n', 'o', 'one', 'p', 'period', 'r', 's', 'six', 'space', 't', 'three', 'two', 'v', 'y', 'zero']\n",
      "2025-02-10:15:55:18,158 INFO     [__init__.py:460] Glyph IDs:   [0, 1, 14, 15, 17, 18, 19, 20, 21, 23, 25, 34, 36, 37, 38, 42, 45, 52, 66, 70, 74, 77, 78, 79, 80, 81, 83, 84, 85, 87, 90]\n",
      "2025-02-10:15:55:18,159 INFO     [__init__.py:3509] Retaining 31 glyphs\n",
      "2025-02-10:15:55:18,159 INFO     [__init__.py:3519] head subsetting not needed\n",
      "2025-02-10:15:55:18,160 INFO     [__init__.py:3519] hhea subsetting not needed\n",
      "2025-02-10:15:55:18,160 INFO     [__init__.py:3519] maxp subsetting not needed\n",
      "2025-02-10:15:55:18,160 INFO     [__init__.py:3519] OS/2 subsetting not needed\n",
      "2025-02-10:15:55:18,161 INFO     [__init__.py:3530] cmap subsetted\n",
      "2025-02-10:15:55:18,161 INFO     [__init__.py:3530] post subsetted\n",
      "2025-02-10:15:55:18,161 INFO     [__init__.py:3530] CFF  subsetted\n",
      "2025-02-10:15:55:18,162 INFO     [__init__.py:3530] hmtx subsetted\n",
      "2025-02-10:15:55:18,166 INFO     [__init__.py:3530] GPOS subsetted\n",
      "2025-02-10:15:55:18,167 INFO     [__init__.py:3530] GSUB subsetted\n",
      "2025-02-10:15:55:18,167 INFO     [__init__.py:3519] name subsetting not needed\n",
      "2025-02-10:15:55:18,168 INFO     [__init__.py:3589] head pruned\n",
      "2025-02-10:15:55:18,169 INFO     [__init__.py:3556] OS/2 Unicode ranges pruned: [0]\n",
      "2025-02-10:15:55:18,169 INFO     [__init__.py:3565] OS/2 CodePage ranges pruned: [0]\n",
      "2025-02-10:15:55:18,173 INFO     [__init__.py:3589] CFF  pruned\n",
      "2025-02-10:15:55:18,174 INFO     [__init__.py:3589] GPOS pruned\n",
      "2025-02-10:15:55:18,175 INFO     [__init__.py:3589] GSUB pruned\n",
      "2025-02-10:15:55:18,178 INFO     [__init__.py:3589] name pruned\n"
     ]
    },
    {
     "data": {
      "image/png": "[encoded data removed]",
      "text/plain": [
       "<Figure size 800x600 with 1 Axes>"
      ]
     },
     "metadata": {},
     "output_type": "display_data"
    }
   ],
   "source": [
    "# Set the style\n",
    "# plt.style.use('seaborn-paper')\n",
    "plt.style.use('seaborn-v0_8-paper')\n",
    "sns.set_context(\"paper\", font_scale=1.5)\n",
    "plt.rcParams['font.family'] = ['serif']\n",
    "plt.rcParams['font.serif'] = ['Nimbus Roman']\n",
    "plt.rcParams['pdf.fonttype'] = 42\n",
    "plt.rcParams['ps.fonttype'] = 42  # Ensure text is editable in PDF\n",
    "\n",
    "\n",
    "# Create figure\n",
    "fig, ax = plt.subplots(figsize=(8, 6))\n",
    "\n",
    "# Color palette that's colorblind-friendly\n",
    "colors = ['blue', \"orange\", \"green\"]\n",
    "\n",
    "palette = sns.color_palette(\"tab10\")\n",
    "colors = palette[0:3]\n",
    "\n",
    "\n",
    "color1 = \"lightseagreen\"\n",
    "color2 = \"darkcyan\"\n",
    "\n",
    "# How to use this ?\n",
    "# std_per_layer_cosine_similarities\n",
    "\n",
    "# Before your current plot line, add this:\n",
    "ax.fill_between(range(33), \n",
    "                avg_per_layer_cosine_similarities - std_per_layer_cosine_similarities,\n",
    "                avg_per_layer_cosine_similarities + std_per_layer_cosine_similarities,\n",
    "                alpha=0.25,  # Controls transparency\n",
    "                color=color1,  # Match the line color\n",
    "                linewidth=0)\n",
    "\n",
    "# Plot with enhanced styling\n",
    "ax.plot(range(33), avg_per_layer_cosine_similarities, marker='o', label=\"ASIDE vs\\nASIDE-Copy\",\n",
    "\n",
    "        color=color1, markersize=10, linewidth=7, markeredgewidth=0.6,\n",
    "        markeredgecolor='black', markerfacecolor=color2,\n",
    "\n",
    "        )\n",
    "\n",
    "\n",
    "# Customize grid\n",
    "ax.grid(True, linestyle='--', alpha=0.2)\n",
    "ax.set_axisbelow(True)\n",
    "\n",
    "# Customize spines\n",
    "ax.spines['top'].set_visible(False)\n",
    "ax.spines['right'].set_visible(False)\n",
    "ax.spines['left'].set_linewidth(1.5)\n",
    "ax.spines['bottom'].set_linewidth(1.5)\n",
    "\n",
    "# Labels and title\n",
    "ax.set_xlabel('Layer', fontsize=26)\n",
    "ax.set_ylabel('Cosine Similarity', fontsize=26)\n",
    "# ax.set_ylim(0.58, 1.05)\n",
    "\n",
    "# Customize ticks\n",
    "ax.tick_params(axis='both', which='major', labelsize=12, width=1.5, length=6)\n",
    "ax.tick_params(axis='both', which='minor', width=1, length=3)\n",
    "\n",
    "# Customize x and y axis tick font\n",
    "plt.xticks(fontsize=20)\n",
    "plt.yticks(fontsize=22)\n",
    "\n",
    "# Add the last layer to the x-axis\n",
    "ax.set_xticks(np.arange(0, 33, 4))\n",
    "\n",
    "# Add minor ticks\n",
    "ax.yaxis.set_minor_locator(plt.MultipleLocator(0.05))\n",
    "\n",
    "# Legend\n",
    "legend = ax.legend(frameon=True, loc='lower right', \n",
    "                 bbox_to_anchor=(0.99, 0.01),\n",
    "                  fontsize=28)\n",
    "legend.get_frame().set_linewidth(1.5)\n",
    "legend.get_frame().set_edgecolor('black')\n",
    "\n",
    "# Adjust layout\n",
    "plt.tight_layout()\n",
    "# plt.show()\n",
    "\n",
    "# Save with high DPI\n",
    "plt.savefig('4_2_rotation_downstream.pdf', dpi=300, bbox_inches='tight')\n",
    "plt.show()"
   ]
  },
  {
   "cell_type": "code",
   "execution_count": null,
   "metadata": {},
   "outputs": [],
   "source": []
  },
  {
   "cell_type": "code",
   "execution_count": null,
   "metadata": {},
   "outputs": [],
   "source": []
  },
  {
   "cell_type": "code",
   "execution_count": null,
   "metadata": {},
   "outputs": [],
   "source": []
  },
  {
   "cell_type": "code",
   "execution_count": null,
   "metadata": {},
   "outputs": [],
   "source": []
  }
 ],
 "metadata": {
  "kernelspec": {
   "display_name": "efs",
   "language": "python",
   "name": "python3"
  },
  "language_info": {
   "codemirror_mode": {
    "name": "ipython",
    "version": 3
   },
   "file_extension": ".py",
   "mimetype": "text/x-python",
   "name": "python",
   "nbconvert_exporter": "python",
   "pygments_lexer": "ipython3",
   "version": "3.10.16"
  }
 },
 "nbformat": 4,
 "nbformat_minor": 2
}
